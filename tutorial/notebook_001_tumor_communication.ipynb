{
 "cells": [
  {
   "cell_type": "markdown",
   "metadata": {},
   "source": [
    "# 実習の説明\n",
    "\n",
    "## これは何か？\n",
    "\n",
    "Jupyter notebook というRを使うためのインターフェースの一つです。\n",
    "\n",
    "- Jupyter notebook の簡単な説明（日本語） https://datumstudio.jp/blog/795\n",
    "\n",
    "特に、今回は JupyterHub という形で（みなさんの手元のPCではなく）オンラインでJupyter notebookを使う環境を提供しています。\n",
    "これは、講義などで同一の環境でできるのに便利です。\n",
    "\n",
    "\n",
    "## 何をするか？\n",
    "\n",
    "解析デザインの図\n",
    "\n",
    "- Toi _et al_., Transcriptome Analysis of Individual Stromal Cell Populations Identifies Stroma-Tumor Crosstalk in Mouse Lung Cancer Model, Cell Reports (2015) http://dx.doi.org/10.1016/j.celrep.2015.01.040 \n",
    "\n",
    "\n",
    "- ソフトウェアやアノテーションデータ http://209.160.41.231/u54/CCCExplorer/\n",
    "- Gene Expression Omnibus (GEO)のNGSデータのページ https://www.ncbi.nlm.nih.gov/geo/query/acc.cgi?acc=GSE59831\n",
    "\n"
   ]
  },
  {
   "cell_type": "markdown",
   "metadata": {},
   "source": [
    "![image.png](https://ars.els-cdn.com/content/image/1-s2.0-S2211124715000650-fx1.jpg)\n",
    "(Image from http://dx.doi.org/10.1016/j.celrep.2015.01.040)"
   ]
  },
  {
   "cell_type": "markdown",
   "metadata": {},
   "source": [
    "# ここから実習"
   ]
  },
  {
   "cell_type": "markdown",
   "metadata": {},
   "source": [
    "パッケージ（ライブラリ）を使えるようにするためにロードする"
   ]
  },
  {
   "cell_type": "code",
   "execution_count": 85,
   "metadata": {},
   "outputs": [
    {
     "name": "stderr",
     "output_type": "stream",
     "text": [
      "\n",
      "Attaching package: ‘tidyr’\n",
      "\n",
      "The following object is masked from ‘package:magrittr’:\n",
      "\n",
      "    extract\n",
      "\n"
     ]
    }
   ],
   "source": [
    "library(readr)\n",
    "library(dplyr)\n",
    "library(magrittr)\n",
    "library(tidyr)\n",
    "library(ggplot2)"
   ]
  },
  {
   "cell_type": "markdown",
   "metadata": {},
   "source": [
    "### データを読み込む"
   ]
  },
  {
   "cell_type": "code",
   "execution_count": 6,
   "metadata": {},
   "outputs": [],
   "source": []
  },
  {
   "cell_type": "code",
   "execution_count": 7,
   "metadata": {},
   "outputs": [
    {
     "name": "stderr",
     "output_type": "stream",
     "text": [
      "Parsed with column specification:\n",
      "cols(\n",
      "  .default = col_double(),\n",
      "  mice_gene_symbol = col_character(),\n",
      "  human_gene_symbol = col_character()\n",
      ")\n",
      "See spec(...) for full column specifications.\n"
     ]
    }
   ],
   "source": [
    "inputfile = \"data/GSE59831_processed_data_FPKM.txt\"\n",
    "\n",
    "df1 = read_tsv(inputfile)"
   ]
  },
  {
   "cell_type": "markdown",
   "metadata": {},
   "source": [
    "### データの様子を眺める"
   ]
  },
  {
   "cell_type": "code",
   "execution_count": 9,
   "metadata": {},
   "outputs": [
    {
     "data": {
      "text/html": [
       "<table>\n",
       "<thead><tr><th scope=col>mice_gene_symbol</th><th scope=col>human_gene_symbol</th><th scope=col>Tum1</th><th scope=col>Tum2</th><th scope=col>Tum3</th><th scope=col>WT1</th><th scope=col>WT2</th><th scope=col>Tum4</th><th scope=col>Tum5</th><th scope=col>WT3</th><th scope=col>⋯</th><th scope=col>Tum11</th><th scope=col>WT8</th><th scope=col>WT9</th><th scope=col>WT10</th><th scope=col>Tum12</th><th scope=col>Tum13</th><th scope=col>Tum14</th><th scope=col>WT11</th><th scope=col>WT12</th><th scope=col>WT13</th></tr></thead>\n",
       "<tbody>\n",
       "\t<tr><td>0610007P14Rik</td><td>C14orf1      </td><td> 9.31368     </td><td>10.13680     </td><td>12.26660     </td><td>11.92950     </td><td>11.34170     </td><td>10.45680     </td><td>10.44590     </td><td>13.05840     </td><td>⋯            </td><td>21.99580     </td><td>33.98430     </td><td>23.50140     </td><td>24.80460     </td><td>17.16570     </td><td>12.51170     </td><td>16.03630     </td><td>14.69160     </td><td>14.03290     </td><td>14.20440     </td></tr>\n",
       "\t<tr><td>0610009D07Rik</td><td>SF3B14       </td><td>25.35280     </td><td>32.25990     </td><td>26.61000     </td><td>29.73440     </td><td>37.16520     </td><td>37.57330     </td><td>30.74340     </td><td>32.30680     </td><td>⋯            </td><td>28.76030     </td><td>21.51540     </td><td>30.83840     </td><td>19.26180     </td><td>35.14690     </td><td>33.53620     </td><td>42.73760     </td><td>29.27860     </td><td>29.37960     </td><td>28.06600     </td></tr>\n",
       "\t<tr><td>0610009O20Rik</td><td>KIAA0141     </td><td>12.45760     </td><td>10.17690     </td><td>11.95220     </td><td>10.62740     </td><td> 7.04763     </td><td> 9.63765     </td><td>11.11900     </td><td>13.35890     </td><td>⋯            </td><td>20.57930     </td><td>18.12230     </td><td>18.65090     </td><td>18.58170     </td><td>15.60410     </td><td>15.34920     </td><td>13.04400     </td><td>16.76130     </td><td>15.91300     </td><td>18.05510     </td></tr>\n",
       "\t<tr><td>0610010F05Rik</td><td>KIAA1841     </td><td> 5.84091     </td><td> 6.54488     </td><td> 6.65366     </td><td> 4.80074     </td><td> 6.06263     </td><td> 5.57042     </td><td> 5.21223     </td><td> 5.56449     </td><td>⋯            </td><td> 8.04684     </td><td> 5.92199     </td><td> 6.23551     </td><td> 4.73364     </td><td> 5.98708     </td><td> 4.26902     </td><td> 4.16373     </td><td> 3.47511     </td><td> 3.71875     </td><td> 3.95344     </td></tr>\n",
       "\t<tr><td>0610010K14Rik</td><td>C17orf49     </td><td>25.63690     </td><td>24.08560     </td><td>20.17560     </td><td>25.34280     </td><td>29.14040     </td><td>31.46110     </td><td>28.30990     </td><td>22.17650     </td><td>⋯            </td><td>18.00200     </td><td>24.00260     </td><td>21.85860     </td><td>23.72630     </td><td>28.46520     </td><td>31.19330     </td><td>26.40880     </td><td>32.53430     </td><td>26.93620     </td><td>29.38080     </td></tr>\n",
       "\t<tr><td>0610011F06Rik</td><td>C16orf13     </td><td> 3.48174     </td><td> 5.79169     </td><td> 3.73809     </td><td> 5.94575     </td><td> 5.98899     </td><td> 9.04125     </td><td> 5.84235     </td><td> 7.36357     </td><td>⋯            </td><td>42.61460     </td><td>38.91730     </td><td>33.56900     </td><td>37.34490     </td><td>20.33750     </td><td>18.81900     </td><td>14.17990     </td><td>14.93870     </td><td>16.12340     </td><td>13.39220     </td></tr>\n",
       "</tbody>\n",
       "</table>\n"
      ],
      "text/latex": [
       "\\begin{tabular}{r|lllllllllllllllllllllllllllll}\n",
       " mice\\_gene\\_symbol & human\\_gene\\_symbol & Tum1 & Tum2 & Tum3 & WT1 & WT2 & Tum4 & Tum5 & WT3 & ⋯ & Tum11 & WT8 & WT9 & WT10 & Tum12 & Tum13 & Tum14 & WT11 & WT12 & WT13\\\\\n",
       "\\hline\n",
       "\t 0610007P14Rik & C14orf1       &  9.31368      & 10.13680      & 12.26660      & 11.92950      & 11.34170      & 10.45680      & 10.44590      & 13.05840      & ⋯             & 21.99580      & 33.98430      & 23.50140      & 24.80460      & 17.16570      & 12.51170      & 16.03630      & 14.69160      & 14.03290      & 14.20440     \\\\\n",
       "\t 0610009D07Rik & SF3B14        & 25.35280      & 32.25990      & 26.61000      & 29.73440      & 37.16520      & 37.57330      & 30.74340      & 32.30680      & ⋯             & 28.76030      & 21.51540      & 30.83840      & 19.26180      & 35.14690      & 33.53620      & 42.73760      & 29.27860      & 29.37960      & 28.06600     \\\\\n",
       "\t 0610009O20Rik & KIAA0141      & 12.45760      & 10.17690      & 11.95220      & 10.62740      &  7.04763      &  9.63765      & 11.11900      & 13.35890      & ⋯             & 20.57930      & 18.12230      & 18.65090      & 18.58170      & 15.60410      & 15.34920      & 13.04400      & 16.76130      & 15.91300      & 18.05510     \\\\\n",
       "\t 0610010F05Rik & KIAA1841      &  5.84091      &  6.54488      &  6.65366      &  4.80074      &  6.06263      &  5.57042      &  5.21223      &  5.56449      & ⋯             &  8.04684      &  5.92199      &  6.23551      &  4.73364      &  5.98708      &  4.26902      &  4.16373      &  3.47511      &  3.71875      &  3.95344     \\\\\n",
       "\t 0610010K14Rik & C17orf49      & 25.63690      & 24.08560      & 20.17560      & 25.34280      & 29.14040      & 31.46110      & 28.30990      & 22.17650      & ⋯             & 18.00200      & 24.00260      & 21.85860      & 23.72630      & 28.46520      & 31.19330      & 26.40880      & 32.53430      & 26.93620      & 29.38080     \\\\\n",
       "\t 0610011F06Rik & C16orf13      &  3.48174      &  5.79169      &  3.73809      &  5.94575      &  5.98899      &  9.04125      &  5.84235      &  7.36357      & ⋯             & 42.61460      & 38.91730      & 33.56900      & 37.34490      & 20.33750      & 18.81900      & 14.17990      & 14.93870      & 16.12340      & 13.39220     \\\\\n",
       "\\end{tabular}\n"
      ],
      "text/markdown": [
       "\n",
       "mice_gene_symbol | human_gene_symbol | Tum1 | Tum2 | Tum3 | WT1 | WT2 | Tum4 | Tum5 | WT3 | ⋯ | Tum11 | WT8 | WT9 | WT10 | Tum12 | Tum13 | Tum14 | WT11 | WT12 | WT13 | \n",
       "|---|---|---|---|---|---|\n",
       "| 0610007P14Rik | C14orf1       |  9.31368      | 10.13680      | 12.26660      | 11.92950      | 11.34170      | 10.45680      | 10.44590      | 13.05840      | ⋯             | 21.99580      | 33.98430      | 23.50140      | 24.80460      | 17.16570      | 12.51170      | 16.03630      | 14.69160      | 14.03290      | 14.20440      | \n",
       "| 0610009D07Rik | SF3B14        | 25.35280      | 32.25990      | 26.61000      | 29.73440      | 37.16520      | 37.57330      | 30.74340      | 32.30680      | ⋯             | 28.76030      | 21.51540      | 30.83840      | 19.26180      | 35.14690      | 33.53620      | 42.73760      | 29.27860      | 29.37960      | 28.06600      | \n",
       "| 0610009O20Rik | KIAA0141      | 12.45760      | 10.17690      | 11.95220      | 10.62740      |  7.04763      |  9.63765      | 11.11900      | 13.35890      | ⋯             | 20.57930      | 18.12230      | 18.65090      | 18.58170      | 15.60410      | 15.34920      | 13.04400      | 16.76130      | 15.91300      | 18.05510      | \n",
       "| 0610010F05Rik | KIAA1841      |  5.84091      |  6.54488      |  6.65366      |  4.80074      |  6.06263      |  5.57042      |  5.21223      |  5.56449      | ⋯             |  8.04684      |  5.92199      |  6.23551      |  4.73364      |  5.98708      |  4.26902      |  4.16373      |  3.47511      |  3.71875      |  3.95344      | \n",
       "| 0610010K14Rik | C17orf49      | 25.63690      | 24.08560      | 20.17560      | 25.34280      | 29.14040      | 31.46110      | 28.30990      | 22.17650      | ⋯             | 18.00200      | 24.00260      | 21.85860      | 23.72630      | 28.46520      | 31.19330      | 26.40880      | 32.53430      | 26.93620      | 29.38080      | \n",
       "| 0610011F06Rik | C16orf13      |  3.48174      |  5.79169      |  3.73809      |  5.94575      |  5.98899      |  9.04125      |  5.84235      |  7.36357      | ⋯             | 42.61460      | 38.91730      | 33.56900      | 37.34490      | 20.33750      | 18.81900      | 14.17990      | 14.93870      | 16.12340      | 13.39220      | \n",
       "\n",
       "\n"
      ],
      "text/plain": [
       "  mice_gene_symbol human_gene_symbol Tum1     Tum2     Tum3     WT1     \n",
       "1 0610007P14Rik    C14orf1            9.31368 10.13680 12.26660 11.92950\n",
       "2 0610009D07Rik    SF3B14            25.35280 32.25990 26.61000 29.73440\n",
       "3 0610009O20Rik    KIAA0141          12.45760 10.17690 11.95220 10.62740\n",
       "4 0610010F05Rik    KIAA1841           5.84091  6.54488  6.65366  4.80074\n",
       "5 0610010K14Rik    C17orf49          25.63690 24.08560 20.17560 25.34280\n",
       "6 0610011F06Rik    C16orf13           3.48174  5.79169  3.73809  5.94575\n",
       "  WT2      Tum4     Tum5     WT3      ⋯ Tum11    WT8      WT9      WT10    \n",
       "1 11.34170 10.45680 10.44590 13.05840 ⋯ 21.99580 33.98430 23.50140 24.80460\n",
       "2 37.16520 37.57330 30.74340 32.30680 ⋯ 28.76030 21.51540 30.83840 19.26180\n",
       "3  7.04763  9.63765 11.11900 13.35890 ⋯ 20.57930 18.12230 18.65090 18.58170\n",
       "4  6.06263  5.57042  5.21223  5.56449 ⋯  8.04684  5.92199  6.23551  4.73364\n",
       "5 29.14040 31.46110 28.30990 22.17650 ⋯ 18.00200 24.00260 21.85860 23.72630\n",
       "6  5.98899  9.04125  5.84235  7.36357 ⋯ 42.61460 38.91730 33.56900 37.34490\n",
       "  Tum12    Tum13    Tum14    WT11     WT12     WT13    \n",
       "1 17.16570 12.51170 16.03630 14.69160 14.03290 14.20440\n",
       "2 35.14690 33.53620 42.73760 29.27860 29.37960 28.06600\n",
       "3 15.60410 15.34920 13.04400 16.76130 15.91300 18.05510\n",
       "4  5.98708  4.26902  4.16373  3.47511  3.71875  3.95344\n",
       "5 28.46520 31.19330 26.40880 32.53430 26.93620 29.38080\n",
       "6 20.33750 18.81900 14.17990 14.93870 16.12340 13.39220"
      ]
     },
     "metadata": {},
     "output_type": "display_data"
    }
   ],
   "source": [
    "head(df1)"
   ]
  },
  {
   "cell_type": "code",
   "execution_count": 29,
   "metadata": {},
   "outputs": [
    {
     "data": {
      "text/html": [
       "<ol class=list-inline>\n",
       "\t<li>16024</li>\n",
       "\t<li>29</li>\n",
       "</ol>\n"
      ],
      "text/latex": [
       "\\begin{enumerate*}\n",
       "\\item 16024\n",
       "\\item 29\n",
       "\\end{enumerate*}\n"
      ],
      "text/markdown": [
       "1. 16024\n",
       "2. 29\n",
       "\n",
       "\n"
      ],
      "text/plain": [
       "[1] 16024    29"
      ]
     },
     "metadata": {},
     "output_type": "display_data"
    }
   ],
   "source": [
    "dim(df1)"
   ]
  },
  {
   "cell_type": "code",
   "execution_count": 26,
   "metadata": {},
   "outputs": [
    {
     "name": "stdout",
     "output_type": "stream",
     "text": [
      "Classes ‘tbl_df’, ‘tbl’ and 'data.frame':\t16024 obs. of  29 variables:\n",
      " $ mice_gene_symbol : chr  \"0610007P14Rik\" \"0610009D07Rik\" \"0610009O20Rik\" \"0610010F05Rik\" ...\n",
      " $ human_gene_symbol: chr  \"C14orf1\" \"SF3B14\" \"KIAA0141\" \"KIAA1841\" ...\n",
      " $ Tum1             : num  9.31 25.35 12.46 5.84 25.64 ...\n",
      " $ Tum2             : num  10.14 32.26 10.18 6.54 24.09 ...\n",
      " $ Tum3             : num  12.27 26.61 11.95 6.65 20.18 ...\n",
      " $ WT1              : num  11.9 29.7 10.6 4.8 25.3 ...\n",
      " $ WT2              : num  11.34 37.17 7.05 6.06 29.14 ...\n",
      " $ Tum4             : num  10.46 37.57 9.64 5.57 31.46 ...\n",
      " $ Tum5             : num  10.45 30.74 11.12 5.21 28.31 ...\n",
      " $ WT3              : num  13.06 32.31 13.36 5.56 22.18 ...\n",
      " $ WT4              : num  8.74 25.08 12.65 3.93 28.72 ...\n",
      " $ Tum6             : num  3.9 31.15 3.93 1.56 22.08 ...\n",
      " $ Tum7             : num  2.54 33.48 3.74 1.68 19.04 ...\n",
      " $ Tum8             : num  3.34 36.3 3.67 1.24 18.23 ...\n",
      " $ WT5              : num  1.14 26.84 2.88 1.05 6.45 ...\n",
      " $ WT6              : num  1.553 24.426 3.984 0.645 11.169 ...\n",
      " $ WT7              : num  2.7 22.99 3.74 1.1 8.6 ...\n",
      " $ Tum9             : num  21.51 30.39 19.15 7.35 20.08 ...\n",
      " $ Tum10            : num  25.08 23.83 20.82 7.22 22.06 ...\n",
      " $ Tum11            : num  22 28.76 20.58 8.05 18 ...\n",
      " $ WT8              : num  33.98 21.52 18.12 5.92 24 ...\n",
      " $ WT9              : num  23.5 30.84 18.65 6.24 21.86 ...\n",
      " $ WT10             : num  24.8 19.26 18.58 4.73 23.73 ...\n",
      " $ Tum12            : num  17.17 35.15 15.6 5.99 28.47 ...\n",
      " $ Tum13            : num  12.51 33.54 15.35 4.27 31.19 ...\n",
      " $ Tum14            : num  16.04 42.74 13.04 4.16 26.41 ...\n",
      " $ WT11             : num  14.69 29.28 16.76 3.48 32.53 ...\n",
      " $ WT12             : num  14.03 29.38 15.91 3.72 26.94 ...\n",
      " $ WT13             : num  14.2 28.07 18.06 3.95 29.38 ...\n",
      " - attr(*, \"spec\")=List of 2\n",
      "  ..$ cols   :List of 29\n",
      "  .. ..$ mice_gene_symbol : list()\n",
      "  .. .. ..- attr(*, \"class\")= chr  \"collector_character\" \"collector\"\n",
      "  .. ..$ human_gene_symbol: list()\n",
      "  .. .. ..- attr(*, \"class\")= chr  \"collector_character\" \"collector\"\n",
      "  .. ..$ Tum1             : list()\n",
      "  .. .. ..- attr(*, \"class\")= chr  \"collector_double\" \"collector\"\n",
      "  .. ..$ Tum2             : list()\n",
      "  .. .. ..- attr(*, \"class\")= chr  \"collector_double\" \"collector\"\n",
      "  .. ..$ Tum3             : list()\n",
      "  .. .. ..- attr(*, \"class\")= chr  \"collector_double\" \"collector\"\n",
      "  .. ..$ WT1              : list()\n",
      "  .. .. ..- attr(*, \"class\")= chr  \"collector_double\" \"collector\"\n",
      "  .. ..$ WT2              : list()\n",
      "  .. .. ..- attr(*, \"class\")= chr  \"collector_double\" \"collector\"\n",
      "  .. ..$ Tum4             : list()\n",
      "  .. .. ..- attr(*, \"class\")= chr  \"collector_double\" \"collector\"\n",
      "  .. ..$ Tum5             : list()\n",
      "  .. .. ..- attr(*, \"class\")= chr  \"collector_double\" \"collector\"\n",
      "  .. ..$ WT3              : list()\n",
      "  .. .. ..- attr(*, \"class\")= chr  \"collector_double\" \"collector\"\n",
      "  .. ..$ WT4              : list()\n",
      "  .. .. ..- attr(*, \"class\")= chr  \"collector_double\" \"collector\"\n",
      "  .. ..$ Tum6             : list()\n",
      "  .. .. ..- attr(*, \"class\")= chr  \"collector_double\" \"collector\"\n",
      "  .. ..$ Tum7             : list()\n",
      "  .. .. ..- attr(*, \"class\")= chr  \"collector_double\" \"collector\"\n",
      "  .. ..$ Tum8             : list()\n",
      "  .. .. ..- attr(*, \"class\")= chr  \"collector_double\" \"collector\"\n",
      "  .. ..$ WT5              : list()\n",
      "  .. .. ..- attr(*, \"class\")= chr  \"collector_double\" \"collector\"\n",
      "  .. ..$ WT6              : list()\n",
      "  .. .. ..- attr(*, \"class\")= chr  \"collector_double\" \"collector\"\n",
      "  .. ..$ WT7              : list()\n",
      "  .. .. ..- attr(*, \"class\")= chr  \"collector_double\" \"collector\"\n",
      "  .. ..$ Tum9             : list()\n",
      "  .. .. ..- attr(*, \"class\")= chr  \"collector_double\" \"collector\"\n",
      "  .. ..$ Tum10            : list()\n",
      "  .. .. ..- attr(*, \"class\")= chr  \"collector_double\" \"collector\"\n",
      "  .. ..$ Tum11            : list()\n",
      "  .. .. ..- attr(*, \"class\")= chr  \"collector_double\" \"collector\"\n",
      "  .. ..$ WT8              : list()\n",
      "  .. .. ..- attr(*, \"class\")= chr  \"collector_double\" \"collector\"\n",
      "  .. ..$ WT9              : list()\n",
      "  .. .. ..- attr(*, \"class\")= chr  \"collector_double\" \"collector\"\n",
      "  .. ..$ WT10             : list()\n",
      "  .. .. ..- attr(*, \"class\")= chr  \"collector_double\" \"collector\"\n",
      "  .. ..$ Tum12            : list()\n",
      "  .. .. ..- attr(*, \"class\")= chr  \"collector_double\" \"collector\"\n",
      "  .. ..$ Tum13            : list()\n",
      "  .. .. ..- attr(*, \"class\")= chr  \"collector_double\" \"collector\"\n",
      "  .. ..$ Tum14            : list()\n",
      "  .. .. ..- attr(*, \"class\")= chr  \"collector_double\" \"collector\"\n",
      "  .. ..$ WT11             : list()\n",
      "  .. .. ..- attr(*, \"class\")= chr  \"collector_double\" \"collector\"\n",
      "  .. ..$ WT12             : list()\n",
      "  .. .. ..- attr(*, \"class\")= chr  \"collector_double\" \"collector\"\n",
      "  .. ..$ WT13             : list()\n",
      "  .. .. ..- attr(*, \"class\")= chr  \"collector_double\" \"collector\"\n",
      "  ..$ default: list()\n",
      "  .. ..- attr(*, \"class\")= chr  \"collector_guess\" \"collector\"\n",
      "  ..- attr(*, \"class\")= chr \"col_spec\"\n"
     ]
    }
   ],
   "source": [
    "str(df1)"
   ]
  },
  {
   "cell_type": "markdown",
   "metadata": {},
   "source": [
    "### データを使いやすいように加工する"
   ]
  },
  {
   "cell_type": "code",
   "execution_count": 45,
   "metadata": {},
   "outputs": [],
   "source": [
    "df2 = df1 %>% select(mice_gene_symbol,human_gene_symbol,Tum1, Tum2, Tum3, WT1, WT2)"
   ]
  },
  {
   "cell_type": "code",
   "execution_count": 46,
   "metadata": {},
   "outputs": [],
   "source": [
    "df2 %<>% rename(\n",
    "    macrophage_tum1 = Tum1,\n",
    "    macrophage_tum2 = Tum2,\n",
    "    macrophage_tum3 = Tum3,\n",
    "    macrophage_wt1 = WT1,\n",
    "    macrophage_wt2 = WT2\n",
    ")"
   ]
  },
  {
   "cell_type": "code",
   "execution_count": 48,
   "metadata": {},
   "outputs": [
    {
     "data": {
      "text/html": [
       "<ol class=list-inline>\n",
       "\t<li>16024</li>\n",
       "\t<li>7</li>\n",
       "</ol>\n"
      ],
      "text/latex": [
       "\\begin{enumerate*}\n",
       "\\item 16024\n",
       "\\item 7\n",
       "\\end{enumerate*}\n"
      ],
      "text/markdown": [
       "1. 16024\n",
       "2. 7\n",
       "\n",
       "\n"
      ],
      "text/plain": [
       "[1] 16024     7"
      ]
     },
     "metadata": {},
     "output_type": "display_data"
    },
    {
     "data": {
      "text/html": [
       "<table>\n",
       "<thead><tr><th scope=col>mice_gene_symbol</th><th scope=col>human_gene_symbol</th><th scope=col>macrophage_tum1</th><th scope=col>macrophage_tum2</th><th scope=col>macrophage_tum3</th><th scope=col>macrophage_wt1</th><th scope=col>macrophage_wt2</th></tr></thead>\n",
       "<tbody>\n",
       "\t<tr><td>0610007P14Rik</td><td>C14orf1      </td><td> 9.31368     </td><td>10.13680     </td><td>12.26660     </td><td>11.92950     </td><td>11.34170     </td></tr>\n",
       "\t<tr><td>0610009D07Rik</td><td>SF3B14       </td><td>25.35280     </td><td>32.25990     </td><td>26.61000     </td><td>29.73440     </td><td>37.16520     </td></tr>\n",
       "\t<tr><td>0610009O20Rik</td><td>KIAA0141     </td><td>12.45760     </td><td>10.17690     </td><td>11.95220     </td><td>10.62740     </td><td> 7.04763     </td></tr>\n",
       "\t<tr><td>0610010F05Rik</td><td>KIAA1841     </td><td> 5.84091     </td><td> 6.54488     </td><td> 6.65366     </td><td> 4.80074     </td><td> 6.06263     </td></tr>\n",
       "\t<tr><td>0610010K14Rik</td><td>C17orf49     </td><td>25.63690     </td><td>24.08560     </td><td>20.17560     </td><td>25.34280     </td><td>29.14040     </td></tr>\n",
       "\t<tr><td>0610011F06Rik</td><td>C16orf13     </td><td> 3.48174     </td><td> 5.79169     </td><td> 3.73809     </td><td> 5.94575     </td><td> 5.98899     </td></tr>\n",
       "</tbody>\n",
       "</table>\n"
      ],
      "text/latex": [
       "\\begin{tabular}{r|lllllll}\n",
       " mice\\_gene\\_symbol & human\\_gene\\_symbol & macrophage\\_tum1 & macrophage\\_tum2 & macrophage\\_tum3 & macrophage\\_wt1 & macrophage\\_wt2\\\\\n",
       "\\hline\n",
       "\t 0610007P14Rik & C14orf1       &  9.31368      & 10.13680      & 12.26660      & 11.92950      & 11.34170     \\\\\n",
       "\t 0610009D07Rik & SF3B14        & 25.35280      & 32.25990      & 26.61000      & 29.73440      & 37.16520     \\\\\n",
       "\t 0610009O20Rik & KIAA0141      & 12.45760      & 10.17690      & 11.95220      & 10.62740      &  7.04763     \\\\\n",
       "\t 0610010F05Rik & KIAA1841      &  5.84091      &  6.54488      &  6.65366      &  4.80074      &  6.06263     \\\\\n",
       "\t 0610010K14Rik & C17orf49      & 25.63690      & 24.08560      & 20.17560      & 25.34280      & 29.14040     \\\\\n",
       "\t 0610011F06Rik & C16orf13      &  3.48174      &  5.79169      &  3.73809      &  5.94575      &  5.98899     \\\\\n",
       "\\end{tabular}\n"
      ],
      "text/markdown": [
       "\n",
       "mice_gene_symbol | human_gene_symbol | macrophage_tum1 | macrophage_tum2 | macrophage_tum3 | macrophage_wt1 | macrophage_wt2 | \n",
       "|---|---|---|---|---|---|\n",
       "| 0610007P14Rik | C14orf1       |  9.31368      | 10.13680      | 12.26660      | 11.92950      | 11.34170      | \n",
       "| 0610009D07Rik | SF3B14        | 25.35280      | 32.25990      | 26.61000      | 29.73440      | 37.16520      | \n",
       "| 0610009O20Rik | KIAA0141      | 12.45760      | 10.17690      | 11.95220      | 10.62740      |  7.04763      | \n",
       "| 0610010F05Rik | KIAA1841      |  5.84091      |  6.54488      |  6.65366      |  4.80074      |  6.06263      | \n",
       "| 0610010K14Rik | C17orf49      | 25.63690      | 24.08560      | 20.17560      | 25.34280      | 29.14040      | \n",
       "| 0610011F06Rik | C16orf13      |  3.48174      |  5.79169      |  3.73809      |  5.94575      |  5.98899      | \n",
       "\n",
       "\n"
      ],
      "text/plain": [
       "  mice_gene_symbol human_gene_symbol macrophage_tum1 macrophage_tum2\n",
       "1 0610007P14Rik    C14orf1            9.31368        10.13680       \n",
       "2 0610009D07Rik    SF3B14            25.35280        32.25990       \n",
       "3 0610009O20Rik    KIAA0141          12.45760        10.17690       \n",
       "4 0610010F05Rik    KIAA1841           5.84091         6.54488       \n",
       "5 0610010K14Rik    C17orf49          25.63690        24.08560       \n",
       "6 0610011F06Rik    C16orf13           3.48174         5.79169       \n",
       "  macrophage_tum3 macrophage_wt1 macrophage_wt2\n",
       "1 12.26660        11.92950       11.34170      \n",
       "2 26.61000        29.73440       37.16520      \n",
       "3 11.95220        10.62740        7.04763      \n",
       "4  6.65366         4.80074        6.06263      \n",
       "5 20.17560        25.34280       29.14040      \n",
       "6  3.73809         5.94575        5.98899      "
      ]
     },
     "metadata": {},
     "output_type": "display_data"
    }
   ],
   "source": [
    "dim(df2)\n",
    "df2 %>% head"
   ]
  },
  {
   "cell_type": "code",
   "execution_count": null,
   "metadata": {},
   "outputs": [],
   "source": []
  },
  {
   "cell_type": "code",
   "execution_count": 49,
   "metadata": {},
   "outputs": [
    {
     "name": "stderr",
     "output_type": "stream",
     "text": [
      "Parsed with column specification:\n",
      "cols(\n",
      "  From = col_character(),\n",
      "  To = col_character()\n",
      ")\n"
     ]
    }
   ],
   "source": [
    "inputfile2 = \"data/LR_manual_revised.txt\"\n",
    "\n",
    "dflr = read_tsv(inputfile2)"
   ]
  },
  {
   "cell_type": "code",
   "execution_count": 50,
   "metadata": {},
   "outputs": [
    {
     "data": {
      "text/html": [
       "<ol class=list-inline>\n",
       "\t<li>1427</li>\n",
       "\t<li>2</li>\n",
       "</ol>\n"
      ],
      "text/latex": [
       "\\begin{enumerate*}\n",
       "\\item 1427\n",
       "\\item 2\n",
       "\\end{enumerate*}\n"
      ],
      "text/markdown": [
       "1. 1427\n",
       "2. 2\n",
       "\n",
       "\n"
      ],
      "text/plain": [
       "[1] 1427    2"
      ]
     },
     "metadata": {},
     "output_type": "display_data"
    },
    {
     "data": {
      "text/html": [
       "<table>\n",
       "<thead><tr><th scope=col>From</th><th scope=col>To</th></tr></thead>\n",
       "<tbody>\n",
       "\t<tr><td>CCK   </td><td>CCKAR </td></tr>\n",
       "\t<tr><td>GAST  </td><td>CCKBR </td></tr>\n",
       "\t<tr><td>GRP   </td><td>GRPR  </td></tr>\n",
       "\t<tr><td>IL17F </td><td>IL17RA</td></tr>\n",
       "\t<tr><td>NTN1  </td><td>DSCAM </td></tr>\n",
       "\t<tr><td>SEMA3A</td><td>PLXNA1</td></tr>\n",
       "</tbody>\n",
       "</table>\n"
      ],
      "text/latex": [
       "\\begin{tabular}{r|ll}\n",
       " From & To\\\\\n",
       "\\hline\n",
       "\t CCK    & CCKAR \\\\\n",
       "\t GAST   & CCKBR \\\\\n",
       "\t GRP    & GRPR  \\\\\n",
       "\t IL17F  & IL17RA\\\\\n",
       "\t NTN1   & DSCAM \\\\\n",
       "\t SEMA3A & PLXNA1\\\\\n",
       "\\end{tabular}\n"
      ],
      "text/markdown": [
       "\n",
       "From | To | \n",
       "|---|---|---|---|---|---|\n",
       "| CCK    | CCKAR  | \n",
       "| GAST   | CCKBR  | \n",
       "| GRP    | GRPR   | \n",
       "| IL17F  | IL17RA | \n",
       "| NTN1   | DSCAM  | \n",
       "| SEMA3A | PLXNA1 | \n",
       "\n",
       "\n"
      ],
      "text/plain": [
       "  From   To    \n",
       "1 CCK    CCKAR \n",
       "2 GAST   CCKBR \n",
       "3 GRP    GRPR  \n",
       "4 IL17F  IL17RA\n",
       "5 NTN1   DSCAM \n",
       "6 SEMA3A PLXNA1"
      ]
     },
     "metadata": {},
     "output_type": "display_data"
    }
   ],
   "source": [
    "dflr %>% dim\n",
    "dflr %>% head"
   ]
  },
  {
   "cell_type": "code",
   "execution_count": 51,
   "metadata": {},
   "outputs": [
    {
     "data": {
      "text/plain": [
       "\n",
       "FALSE  TRUE \n",
       "  201  1226 "
      ]
     },
     "metadata": {},
     "output_type": "display_data"
    }
   ],
   "source": [
    "table(dflr$From %in% df1$human_gene_symbol)"
   ]
  },
  {
   "cell_type": "code",
   "execution_count": 52,
   "metadata": {},
   "outputs": [
    {
     "data": {
      "text/plain": [
       "\n",
       "FALSE  TRUE \n",
       "   64  1363 "
      ]
     },
     "metadata": {},
     "output_type": "display_data"
    }
   ],
   "source": [
    "table(dflr$To %in% df1$human_gene_symbol)"
   ]
  },
  {
   "cell_type": "code",
   "execution_count": 53,
   "metadata": {},
   "outputs": [
    {
     "name": "stderr",
     "output_type": "stream",
     "text": [
      "Parsed with column specification:\n",
      "cols(\n",
      "  `HomoloGene ID` = col_integer(),\n",
      "  `Common Organism Name` = col_character(),\n",
      "  `NCBI Taxon ID` = col_integer(),\n",
      "  Symbol = col_character(),\n",
      "  `EntrezGene ID` = col_integer(),\n",
      "  `Mouse MGI ID` = col_character(),\n",
      "  `HGNC ID` = col_character(),\n",
      "  `OMIM Gene ID` = col_integer(),\n",
      "  `Genetic Location` = col_character(),\n",
      "  `Genomic Coordinates (mouse: GRCm38, human: GRCh37.p10)` = col_character(),\n",
      "  `Nucleotide RefSeq IDs` = col_character(),\n",
      "  `Protein RefSeq IDs` = col_character(),\n",
      "  `SWISS_PROT IDs` = col_character()\n",
      ")\n"
     ]
    },
    {
     "data": {
      "text/html": [
       "<ol class=list-inline>\n",
       "\t<li>39522</li>\n",
       "\t<li>13</li>\n",
       "</ol>\n"
      ],
      "text/latex": [
       "\\begin{enumerate*}\n",
       "\\item 39522\n",
       "\\item 13\n",
       "\\end{enumerate*}\n"
      ],
      "text/markdown": [
       "1. 39522\n",
       "2. 13\n",
       "\n",
       "\n"
      ],
      "text/plain": [
       "[1] 39522    13"
      ]
     },
     "metadata": {},
     "output_type": "display_data"
    },
    {
     "data": {
      "text/html": [
       "<table>\n",
       "<thead><tr><th scope=col>HomoloGene ID</th><th scope=col>Common Organism Name</th><th scope=col>NCBI Taxon ID</th><th scope=col>Symbol</th><th scope=col>EntrezGene ID</th><th scope=col>Mouse MGI ID</th><th scope=col>HGNC ID</th><th scope=col>OMIM Gene ID</th><th scope=col>Genetic Location</th><th scope=col>Genomic Coordinates (mouse: GRCm38, human: GRCh37.p10)</th><th scope=col>Nucleotide RefSeq IDs</th><th scope=col>Protein RefSeq IDs</th><th scope=col>SWISS_PROT IDs</th></tr></thead>\n",
       "<tbody>\n",
       "\t<tr><td>3                                                                         </td><td>mouse, laboratory                                                         </td><td>10090                                                                     </td><td>Acadm                                                                     </td><td> 11364                                                                    </td><td>MGI:87867                                                                 </td><td>NA                                                                        </td><td>    NA                                                                    </td><td>Chr3 78.77 cM                                                             </td><td>Chr3:153922357-153944632(-)                                               </td><td>NM_007382                                                                 </td><td>NP_031408                                                                 </td><td>P45952                                                                    </td></tr>\n",
       "\t<tr><td>3                                                                         </td><td>human                                                                     </td><td> 9606                                                                     </td><td>ACADM                                                                     </td><td>    34                                                                    </td><td>NA                                                                        </td><td>HGNC:89                                                                   </td><td>607008                                                                    </td><td>Chr1 p31                                                                  </td><td>Chr1:76190043-76229355(+)                                                 </td><td>NM_000016,NM_001127328                                                    </td><td>NP_000007,NP_001120800,XP_005270868,XP_005270869,XP_005270870,XP_005270871</td><td>P11310                                                                    </td></tr>\n",
       "\t<tr><td>5                                                                         </td><td>mouse, laboratory                                                         </td><td>10090                                                                     </td><td>Acadvl                                                                    </td><td> 11370                                                                    </td><td>MGI:895149                                                                </td><td>NA                                                                        </td><td>    NA                                                                    </td><td>Chr11 42.96 cM                                                            </td><td>Chr11:70010183-70015411(-)                                                </td><td>NM_017366                                                                 </td><td>NP_059062                                                                 </td><td>P50544                                                                    </td></tr>\n",
       "\t<tr><td>5                                                                         </td><td>human                                                                     </td><td> 9606                                                                     </td><td>ACADVL                                                                    </td><td>    37                                                                    </td><td>NA                                                                        </td><td>HGNC:92                                                                   </td><td>609575                                                                    </td><td>Chr17 p13.1                                                               </td><td>Chr17:7120444-7128586(+)                                                  </td><td>NM_000018,NM_001033859,NM_001270447,NM_001270448                          </td><td>NP_000009,NP_001029031,NP_001257376,NP_001257377                          </td><td>P49748                                                                    </td></tr>\n",
       "\t<tr><td>6                                                                         </td><td>mouse, laboratory                                                         </td><td>10090                                                                     </td><td>Acat1                                                                     </td><td>110446                                                                    </td><td>MGI:87870                                                                 </td><td>NA                                                                        </td><td>    NA                                                                    </td><td>Chr9 29.12 cM                                                             </td><td>Chr9:53580522-53610382(-)                                                 </td><td>NM_144784                                                                 </td><td>NP_659033                                                                 </td><td>Q8QZT1                                                                    </td></tr>\n",
       "\t<tr><td>6                                                                         </td><td>human                                                                     </td><td> 9606                                                                     </td><td>ACAT1                                                                     </td><td>    38                                                                    </td><td>NA                                                                        </td><td>HGNC:93                                                                   </td><td>607809                                                                    </td><td>Chr11 q22.3                                                               </td><td>Chr11:107992258-108018895(+)                                              </td><td>NM_000019                                                                 </td><td>NP_000010                                                                 </td><td>P24752                                                                    </td></tr>\n",
       "</tbody>\n",
       "</table>\n"
      ],
      "text/latex": [
       "\\begin{tabular}{r|lllllllllllll}\n",
       " HomoloGene ID & Common Organism Name & NCBI Taxon ID & Symbol & EntrezGene ID & Mouse MGI ID & HGNC ID & OMIM Gene ID & Genetic Location & Genomic Coordinates (mouse: GRCm38, human: GRCh37.p10) & Nucleotide RefSeq IDs & Protein RefSeq IDs & SWISS\\_PROT IDs\\\\\n",
       "\\hline\n",
       "\t 3                                                                            & mouse, laboratory                                                            & 10090                                                                        & Acadm                                                                        &  11364                                                                       & MGI:87867                                                                    & NA                                                                           &     NA                                                                       & Chr3 78.77 cM                                                                & Chr3:153922357-153944632(-)                                                  & NM\\_007382                                                                  & NP\\_031408                                                                  & P45952                                                                      \\\\\n",
       "\t 3                                                                                      & human                                                                                  &  9606                                                                                  & ACADM                                                                                  &     34                                                                                 & NA                                                                                     & HGNC:89                                                                                & 607008                                                                                 & Chr1 p31                                                                               & Chr1:76190043-76229355(+)                                                              & NM\\_000016,NM\\_001127328                                                             & NP\\_000007,NP\\_001120800,XP\\_005270868,XP\\_005270869,XP\\_005270870,XP\\_005270871 & P11310                                                                                \\\\\n",
       "\t 5                                                                            & mouse, laboratory                                                            & 10090                                                                        & Acadvl                                                                       &  11370                                                                       & MGI:895149                                                                   & NA                                                                           &     NA                                                                       & Chr11 42.96 cM                                                               & Chr11:70010183-70015411(-)                                                   & NM\\_017366                                                                  & NP\\_059062                                                                  & P50544                                                                      \\\\\n",
       "\t 5                                                                                  & human                                                                              &  9606                                                                              & ACADVL                                                                             &     37                                                                             & NA                                                                                 & HGNC:92                                                                            & 609575                                                                             & Chr17 p13.1                                                                        & Chr17:7120444-7128586(+)                                                           & NM\\_000018,NM\\_001033859,NM\\_001270447,NM\\_001270448                           & NP\\_000009,NP\\_001029031,NP\\_001257376,NP\\_001257377                           & P49748                                                                            \\\\\n",
       "\t 6                                                                            & mouse, laboratory                                                            & 10090                                                                        & Acat1                                                                        & 110446                                                                       & MGI:87870                                                                    & NA                                                                           &     NA                                                                       & Chr9 29.12 cM                                                                & Chr9:53580522-53610382(-)                                                    & NM\\_144784                                                                  & NP\\_659033                                                                  & Q8QZT1                                                                      \\\\\n",
       "\t 6                                                                            & human                                                                        &  9606                                                                        & ACAT1                                                                        &     38                                                                       & NA                                                                           & HGNC:93                                                                      & 607809                                                                       & Chr11 q22.3                                                                  & Chr11:107992258-108018895(+)                                                 & NM\\_000019                                                                  & NP\\_000010                                                                  & P24752                                                                      \\\\\n",
       "\\end{tabular}\n"
      ],
      "text/markdown": [
       "\n",
       "HomoloGene ID | Common Organism Name | NCBI Taxon ID | Symbol | EntrezGene ID | Mouse MGI ID | HGNC ID | OMIM Gene ID | Genetic Location | Genomic Coordinates (mouse: GRCm38, human: GRCh37.p10) | Nucleotide RefSeq IDs | Protein RefSeq IDs | SWISS_PROT IDs | \n",
       "|---|---|---|---|---|---|\n",
       "| 3                                                                          | mouse, laboratory                                                          | 10090                                                                      | Acadm                                                                      |  11364                                                                     | MGI:87867                                                                  | NA                                                                         |     NA                                                                     | Chr3 78.77 cM                                                              | Chr3:153922357-153944632(-)                                                | NM_007382                                                                  | NP_031408                                                                  | P45952                                                                     | \n",
       "| 3                                                                          | human                                                                      |  9606                                                                      | ACADM                                                                      |     34                                                                     | NA                                                                         | HGNC:89                                                                    | 607008                                                                     | Chr1 p31                                                                   | Chr1:76190043-76229355(+)                                                  | NM_000016,NM_001127328                                                     | NP_000007,NP_001120800,XP_005270868,XP_005270869,XP_005270870,XP_005270871 | P11310                                                                     | \n",
       "| 5                                                                          | mouse, laboratory                                                          | 10090                                                                      | Acadvl                                                                     |  11370                                                                     | MGI:895149                                                                 | NA                                                                         |     NA                                                                     | Chr11 42.96 cM                                                             | Chr11:70010183-70015411(-)                                                 | NM_017366                                                                  | NP_059062                                                                  | P50544                                                                     | \n",
       "| 5                                                                          | human                                                                      |  9606                                                                      | ACADVL                                                                     |     37                                                                     | NA                                                                         | HGNC:92                                                                    | 609575                                                                     | Chr17 p13.1                                                                | Chr17:7120444-7128586(+)                                                   | NM_000018,NM_001033859,NM_001270447,NM_001270448                           | NP_000009,NP_001029031,NP_001257376,NP_001257377                           | P49748                                                                     | \n",
       "| 6                                                                          | mouse, laboratory                                                          | 10090                                                                      | Acat1                                                                      | 110446                                                                     | MGI:87870                                                                  | NA                                                                         |     NA                                                                     | Chr9 29.12 cM                                                              | Chr9:53580522-53610382(-)                                                  | NM_144784                                                                  | NP_659033                                                                  | Q8QZT1                                                                     | \n",
       "| 6                                                                          | human                                                                      |  9606                                                                      | ACAT1                                                                      |     38                                                                     | NA                                                                         | HGNC:93                                                                    | 607809                                                                     | Chr11 q22.3                                                                | Chr11:107992258-108018895(+)                                               | NM_000019                                                                  | NP_000010                                                                  | P24752                                                                     | \n",
       "\n",
       "\n"
      ],
      "text/plain": [
       "  HomoloGene ID Common Organism Name NCBI Taxon ID Symbol EntrezGene ID\n",
       "1 3             mouse, laboratory    10090         Acadm   11364       \n",
       "2 3             human                 9606         ACADM      34       \n",
       "3 5             mouse, laboratory    10090         Acadvl  11370       \n",
       "4 5             human                 9606         ACADVL     37       \n",
       "5 6             mouse, laboratory    10090         Acat1  110446       \n",
       "6 6             human                 9606         ACAT1      38       \n",
       "  Mouse MGI ID HGNC ID OMIM Gene ID Genetic Location\n",
       "1 MGI:87867    NA          NA       Chr3 78.77 cM   \n",
       "2 NA           HGNC:89 607008       Chr1 p31        \n",
       "3 MGI:895149   NA          NA       Chr11 42.96 cM  \n",
       "4 NA           HGNC:92 609575       Chr17 p13.1     \n",
       "5 MGI:87870    NA          NA       Chr9 29.12 cM   \n",
       "6 NA           HGNC:93 607809       Chr11 q22.3     \n",
       "  Genomic Coordinates (mouse: GRCm38, human: GRCh37.p10)\n",
       "1 Chr3:153922357-153944632(-)                           \n",
       "2 Chr1:76190043-76229355(+)                             \n",
       "3 Chr11:70010183-70015411(-)                            \n",
       "4 Chr17:7120444-7128586(+)                              \n",
       "5 Chr9:53580522-53610382(-)                             \n",
       "6 Chr11:107992258-108018895(+)                          \n",
       "  Nucleotide RefSeq IDs                           \n",
       "1 NM_007382                                       \n",
       "2 NM_000016,NM_001127328                          \n",
       "3 NM_017366                                       \n",
       "4 NM_000018,NM_001033859,NM_001270447,NM_001270448\n",
       "5 NM_144784                                       \n",
       "6 NM_000019                                       \n",
       "  Protein RefSeq IDs                                                        \n",
       "1 NP_031408                                                                 \n",
       "2 NP_000007,NP_001120800,XP_005270868,XP_005270869,XP_005270870,XP_005270871\n",
       "3 NP_059062                                                                 \n",
       "4 NP_000009,NP_001029031,NP_001257376,NP_001257377                          \n",
       "5 NP_659033                                                                 \n",
       "6 NP_000010                                                                 \n",
       "  SWISS_PROT IDs\n",
       "1 P45952        \n",
       "2 P11310        \n",
       "3 P50544        \n",
       "4 P49748        \n",
       "5 Q8QZT1        \n",
       "6 P24752        "
      ]
     },
     "metadata": {},
     "output_type": "display_data"
    }
   ],
   "source": [
    "dfhom = read_tsv(\"data/HOM_MouseHumanSequence.rpt\")\n",
    "dim(dfhom)\n",
    "head(dfhom)"
   ]
  },
  {
   "cell_type": "code",
   "execution_count": 97,
   "metadata": {},
   "outputs": [
    {
     "data": {
      "text/html": [
       "<table>\n",
       "<thead><tr><th scope=col>HomoloGene ID</th><th scope=col>Symbol</th><th scope=col>Common Organism Name</th></tr></thead>\n",
       "<tbody>\n",
       "\t<tr><td>292              </td><td>Smn1             </td><td>mouse, laboratory</td></tr>\n",
       "\t<tr><td>292              </td><td>SMN1             </td><td>human            </td></tr>\n",
       "\t<tr><td>292              </td><td>SMN2             </td><td>human            </td></tr>\n",
       "\t<tr><td>293              </td><td>Snca             </td><td>mouse, laboratory</td></tr>\n",
       "</tbody>\n",
       "</table>\n"
      ],
      "text/latex": [
       "\\begin{tabular}{r|lll}\n",
       " HomoloGene ID & Symbol & Common Organism Name\\\\\n",
       "\\hline\n",
       "\t 292               & Smn1              & mouse, laboratory\\\\\n",
       "\t 292               & SMN1              & human            \\\\\n",
       "\t 292               & SMN2              & human            \\\\\n",
       "\t 293               & Snca              & mouse, laboratory\\\\\n",
       "\\end{tabular}\n"
      ],
      "text/markdown": [
       "\n",
       "HomoloGene ID | Symbol | Common Organism Name | \n",
       "|---|---|---|---|\n",
       "| 292               | Smn1              | mouse, laboratory | \n",
       "| 292               | SMN1              | human             | \n",
       "| 292               | SMN2              | human             | \n",
       "| 293               | Snca              | mouse, laboratory | \n",
       "\n",
       "\n"
      ],
      "text/plain": [
       "  HomoloGene ID Symbol Common Organism Name\n",
       "1 292           Smn1   mouse, laboratory   \n",
       "2 292           SMN1   human               \n",
       "3 292           SMN2   human               \n",
       "4 293           Snca   mouse, laboratory   "
      ]
     },
     "metadata": {},
     "output_type": "display_data"
    }
   ],
   "source": [
    "hoge = dfhom %>% select(`HomoloGene ID`, Symbol, `Common Organism Name`) \n",
    "hoge[339:342,]"
   ]
  },
  {
   "cell_type": "code",
   "execution_count": 103,
   "metadata": {},
   "outputs": [],
   "source": [
    "dfhom2 = dfhom %>% select(`HomoloGene ID`, Symbol, `Common Organism Name`) %>%\n",
    "    group_by(`HomoloGene ID`, `Common Organism Name`) %>%  mutate(id=1:n()) %>%\n",
    "    spread(`Common Organism Name`, Symbol)"
   ]
  },
  {
   "cell_type": "code",
   "execution_count": 107,
   "metadata": {},
   "outputs": [],
   "source": [
    "dfhom2 = rbind(dfhom, dfhom) %>% select(`HomoloGene ID`, Symbol, `Common Organism Name`) %>%\n",
    "    group_by(`HomoloGene ID`, `Common Organism Name`) %>%  mutate(id=1:n()) %>%\n",
    "    spread(`Common Organism Name`, Symbol)"
   ]
  },
  {
   "cell_type": "code",
   "execution_count": 108,
   "metadata": {},
   "outputs": [
    {
     "data": {
      "text/html": [
       "<table>\n",
       "<thead><tr><th scope=col>HomoloGene ID</th><th scope=col>id</th><th scope=col>human</th><th scope=col>mouse, laboratory</th></tr></thead>\n",
       "<tbody>\n",
       "\t<tr><td>292 </td><td>1   </td><td>SMN1</td><td>Smn1</td></tr>\n",
       "\t<tr><td>292 </td><td>2   </td><td>SMN2</td><td>Smn1</td></tr>\n",
       "\t<tr><td>292 </td><td>3   </td><td>SMN1</td><td>NA  </td></tr>\n",
       "\t<tr><td>292 </td><td>4   </td><td>SMN2</td><td>NA  </td></tr>\n",
       "</tbody>\n",
       "</table>\n"
      ],
      "text/latex": [
       "\\begin{tabular}{r|llll}\n",
       " HomoloGene ID & id & human & mouse, laboratory\\\\\n",
       "\\hline\n",
       "\t 292  & 1    & SMN1 & Smn1\\\\\n",
       "\t 292  & 2    & SMN2 & Smn1\\\\\n",
       "\t 292  & 3    & SMN1 & NA  \\\\\n",
       "\t 292  & 4    & SMN2 & NA  \\\\\n",
       "\\end{tabular}\n"
      ],
      "text/markdown": [
       "\n",
       "HomoloGene ID | id | human | mouse, laboratory | \n",
       "|---|---|---|---|\n",
       "| 292  | 1    | SMN1 | Smn1 | \n",
       "| 292  | 2    | SMN2 | Smn1 | \n",
       "| 292  | 3    | SMN1 | NA   | \n",
       "| 292  | 4    | SMN2 | NA   | \n",
       "\n",
       "\n"
      ],
      "text/plain": [
       "  HomoloGene ID id human mouse, laboratory\n",
       "1 292           1  SMN1  Smn1             \n",
       "2 292           2  SMN2  Smn1             \n",
       "3 292           3  SMN1  NA               \n",
       "4 292           4  SMN2  NA               "
      ]
     },
     "metadata": {},
     "output_type": "display_data"
    }
   ],
   "source": [
    "dfhom2 %>% filter(`HomoloGene ID` == 292)"
   ]
  },
  {
   "cell_type": "code",
   "execution_count": 117,
   "metadata": {},
   "outputs": [
    {
     "ename": "ERROR",
     "evalue": "Error: All arguments must be named\n",
     "output_type": "error",
     "traceback": [
      "Error: All arguments must be named\nTraceback:\n",
      "1. dfhom2 %>% dplyr::rename(c(mouse = Symbol.x, human = Symbol.y))",
      "2. withVisible(eval(quote(`_fseq`(`_lhs`)), env, env))",
      "3. eval(quote(`_fseq`(`_lhs`)), env, env)",
      "4. eval(expr, envir, enclos)",
      "5. `_fseq`(`_lhs`)",
      "6. freduce(value, `_function_list`)",
      "7. withVisible(function_list[[k]](value))",
      "8. function_list[[k]](value)",
      "9. dplyr::rename(., c(mouse = Symbol.x, human = Symbol.y))",
      "10. rename.data.frame(., c(mouse = Symbol.x, human = Symbol.y))",
      "11. rename_vars(names(.data), !(!(!quos(...))))",
      "12. abort(\"All arguments must be named\")"
     ]
    }
   ],
   "source": [
    "dfhom2 = full_join(\n",
    "    dfhom %>% select(`HomoloGene ID`, Symbol, `Common Organism Name`) %>% \n",
    "        filter(`Common Organism Name` == \"mouse, laboratory\") %>%\n",
    "        select(-`Common Organism Name`),\n",
    "    dfhom %>% select(`HomoloGene ID`, Symbol, `Common Organism Name`) %>%\n",
    "        filter(`Common Organism Name` == \"human\") %>%\n",
    "        select(-`Common Organism Name`),\n",
    "    by = \"HomoloGene ID\"\n",
    ")\n",
    "dfhom2 %>% dplyr::rename(c(mouse=Symbol.x, human=Symbol.y))"
   ]
  },
  {
   "cell_type": "code",
   "execution_count": 118,
   "metadata": {},
   "outputs": [],
   "source": [
    "?dplyr::rename"
   ]
  },
  {
   "cell_type": "code",
   "execution_count": 114,
   "metadata": {},
   "outputs": [
    {
     "data": {
      "text/html": [
       "<ol class=list-inline>\n",
       "\t<li>22894</li>\n",
       "\t<li>3</li>\n",
       "</ol>\n"
      ],
      "text/latex": [
       "\\begin{enumerate*}\n",
       "\\item 22894\n",
       "\\item 3\n",
       "\\end{enumerate*}\n"
      ],
      "text/markdown": [
       "1. 22894\n",
       "2. 3\n",
       "\n",
       "\n"
      ],
      "text/plain": [
       "[1] 22894     3"
      ]
     },
     "metadata": {},
     "output_type": "display_data"
    },
    {
     "data": {
      "text/html": [
       "<table>\n",
       "<thead><tr><th scope=col>HomoloGene ID</th><th scope=col>Symbol.x</th><th scope=col>Symbol.y</th></tr></thead>\n",
       "<tbody>\n",
       "\t<tr><td> 3    </td><td>Acadm </td><td>ACADM </td></tr>\n",
       "\t<tr><td> 5    </td><td>Acadvl</td><td>ACADVL</td></tr>\n",
       "\t<tr><td> 6    </td><td>Acat1 </td><td>ACAT1 </td></tr>\n",
       "\t<tr><td> 7    </td><td>Acvr1 </td><td>ACVR1 </td></tr>\n",
       "\t<tr><td> 9    </td><td>Sgca  </td><td>SGCA  </td></tr>\n",
       "\t<tr><td>12    </td><td>Adsl  </td><td>ADSL  </td></tr>\n",
       "</tbody>\n",
       "</table>\n"
      ],
      "text/latex": [
       "\\begin{tabular}{r|lll}\n",
       " HomoloGene ID & Symbol.x & Symbol.y\\\\\n",
       "\\hline\n",
       "\t  3     & Acadm  & ACADM \\\\\n",
       "\t  5     & Acadvl & ACADVL\\\\\n",
       "\t  6     & Acat1  & ACAT1 \\\\\n",
       "\t  7     & Acvr1  & ACVR1 \\\\\n",
       "\t  9     & Sgca   & SGCA  \\\\\n",
       "\t 12     & Adsl   & ADSL  \\\\\n",
       "\\end{tabular}\n"
      ],
      "text/markdown": [
       "\n",
       "HomoloGene ID | Symbol.x | Symbol.y | \n",
       "|---|---|---|---|---|---|\n",
       "|  3     | Acadm  | ACADM  | \n",
       "|  5     | Acadvl | ACADVL | \n",
       "|  6     | Acat1  | ACAT1  | \n",
       "|  7     | Acvr1  | ACVR1  | \n",
       "|  9     | Sgca   | SGCA   | \n",
       "| 12     | Adsl   | ADSL   | \n",
       "\n",
       "\n"
      ],
      "text/plain": [
       "  HomoloGene ID Symbol.x Symbol.y\n",
       "1  3            Acadm    ACADM   \n",
       "2  5            Acadvl   ACADVL  \n",
       "3  6            Acat1    ACAT1   \n",
       "4  7            Acvr1    ACVR1   \n",
       "5  9            Sgca     SGCA    \n",
       "6 12            Adsl     ADSL    "
      ]
     },
     "metadata": {},
     "output_type": "display_data"
    },
    {
     "data": {
      "text/html": [
       "<table>\n",
       "<thead><tr><th scope=col>HomoloGene ID</th><th scope=col>Symbol.x</th><th scope=col>Symbol.y</th></tr></thead>\n",
       "<tbody>\n",
       "\t<tr><td>292 </td><td>Smn1</td><td>SMN1</td></tr>\n",
       "\t<tr><td>292 </td><td>Smn1</td><td>SMN2</td></tr>\n",
       "</tbody>\n",
       "</table>\n"
      ],
      "text/latex": [
       "\\begin{tabular}{r|lll}\n",
       " HomoloGene ID & Symbol.x & Symbol.y\\\\\n",
       "\\hline\n",
       "\t 292  & Smn1 & SMN1\\\\\n",
       "\t 292  & Smn1 & SMN2\\\\\n",
       "\\end{tabular}\n"
      ],
      "text/markdown": [
       "\n",
       "HomoloGene ID | Symbol.x | Symbol.y | \n",
       "|---|---|\n",
       "| 292  | Smn1 | SMN1 | \n",
       "| 292  | Smn1 | SMN2 | \n",
       "\n",
       "\n"
      ],
      "text/plain": [
       "  HomoloGene ID Symbol.x Symbol.y\n",
       "1 292           Smn1     SMN1    \n",
       "2 292           Smn1     SMN2    "
      ]
     },
     "metadata": {},
     "output_type": "display_data"
    }
   ],
   "source": [
    "dim(dfhom2)\n",
    "head(dfhom2)\n",
    "dfhom2 %>% filter(`HomoloGene ID` == 292)"
   ]
  },
  {
   "cell_type": "code",
   "execution_count": 105,
   "metadata": {},
   "outputs": [
    {
     "name": "stderr",
     "output_type": "stream",
     "text": [
      "\n",
      "Attaching package: ‘reshape2’\n",
      "\n",
      "The following object is masked from ‘package:tidyr’:\n",
      "\n",
      "    smiths\n",
      "\n"
     ]
    }
   ],
   "source": [
    "library(reshape2)"
   ]
  },
  {
   "cell_type": "code",
   "execution_count": 106,
   "metadata": {},
   "outputs": [
    {
     "name": "stderr",
     "output_type": "stream",
     "text": [
      "Aggregation function missing: defaulting to length\n"
     ]
    },
    {
     "data": {
      "text/html": [
       "<table>\n",
       "<thead><tr><th scope=col>HomoloGene ID</th><th scope=col>human</th><th scope=col>mouse, laboratory</th></tr></thead>\n",
       "<tbody>\n",
       "\t<tr><td> 3</td><td>1 </td><td>1 </td></tr>\n",
       "\t<tr><td> 5</td><td>1 </td><td>1 </td></tr>\n",
       "\t<tr><td> 6</td><td>1 </td><td>1 </td></tr>\n",
       "\t<tr><td> 7</td><td>1 </td><td>1 </td></tr>\n",
       "\t<tr><td> 9</td><td>1 </td><td>1 </td></tr>\n",
       "\t<tr><td>12</td><td>1 </td><td>1 </td></tr>\n",
       "</tbody>\n",
       "</table>\n"
      ],
      "text/latex": [
       "\\begin{tabular}{r|lll}\n",
       " HomoloGene ID & human & mouse, laboratory\\\\\n",
       "\\hline\n",
       "\t  3 & 1  & 1 \\\\\n",
       "\t  5 & 1  & 1 \\\\\n",
       "\t  6 & 1  & 1 \\\\\n",
       "\t  7 & 1  & 1 \\\\\n",
       "\t  9 & 1  & 1 \\\\\n",
       "\t 12 & 1  & 1 \\\\\n",
       "\\end{tabular}\n"
      ],
      "text/markdown": [
       "\n",
       "HomoloGene ID | human | mouse, laboratory | \n",
       "|---|---|---|---|---|---|\n",
       "|  3 | 1  | 1  | \n",
       "|  5 | 1  | 1  | \n",
       "|  6 | 1  | 1  | \n",
       "|  7 | 1  | 1  | \n",
       "|  9 | 1  | 1  | \n",
       "| 12 | 1  | 1  | \n",
       "\n",
       "\n"
      ],
      "text/plain": [
       "  HomoloGene ID human mouse, laboratory\n",
       "1  3            1     1                \n",
       "2  5            1     1                \n",
       "3  6            1     1                \n",
       "4  7            1     1                \n",
       "5  9            1     1                \n",
       "6 12            1     1                "
      ]
     },
     "metadata": {},
     "output_type": "display_data"
    }
   ],
   "source": [
    " dfhom %>% select(`HomoloGene ID`, Symbol, `Common Organism Name`) %>%\n",
    "        dcast(`HomoloGene ID` ~ `Common Organism Name`, value.var=\"Symbol\") %>% head"
   ]
  },
  {
   "cell_type": "code",
   "execution_count": null,
   "metadata": {},
   "outputs": [],
   "source": []
  },
  {
   "cell_type": "code",
   "execution_count": 54,
   "metadata": {},
   "outputs": [
    {
     "name": "stderr",
     "output_type": "stream",
     "text": [
      "Parsed with column specification:\n",
      "cols(\n",
      "  test_id = col_character(),\n",
      "  gene_id = col_character(),\n",
      "  gene = col_character(),\n",
      "  locus = col_character(),\n",
      "  sample_1 = col_character(),\n",
      "  sample_2 = col_character(),\n",
      "  status = col_character(),\n",
      "  value_1 = col_double(),\n",
      "  value_2 = col_double(),\n",
      "  `log2(fold_change)` = col_double(),\n",
      "  test_stat = col_double(),\n",
      "  p_value = col_double(),\n",
      "  q_value = col_double(),\n",
      "  significant = col_character()\n",
      ")\n"
     ]
    },
    {
     "data": {
      "text/html": [
       "<ol class=list-inline>\n",
       "\t<li>30743</li>\n",
       "\t<li>14</li>\n",
       "</ol>\n"
      ],
      "text/latex": [
       "\\begin{enumerate*}\n",
       "\\item 30743\n",
       "\\item 14\n",
       "\\end{enumerate*}\n"
      ],
      "text/markdown": [
       "1. 30743\n",
       "2. 14\n",
       "\n",
       "\n"
      ],
      "text/plain": [
       "[1] 30743    14"
      ]
     },
     "metadata": {},
     "output_type": "display_data"
    },
    {
     "data": {
      "text/html": [
       "<table>\n",
       "<thead><tr><th scope=col>test_id</th><th scope=col>gene_id</th><th scope=col>gene</th><th scope=col>locus</th><th scope=col>sample_1</th><th scope=col>sample_2</th><th scope=col>status</th><th scope=col>value_1</th><th scope=col>value_2</th><th scope=col>log2(fold_change)</th><th scope=col>test_stat</th><th scope=col>p_value</th><th scope=col>q_value</th><th scope=col>significant</th></tr></thead>\n",
       "<tbody>\n",
       "\t<tr><td>0610005C13Rik          </td><td>0610005C13Rik          </td><td>-                      </td><td>chr7:45567794-45589710 </td><td>q1                     </td><td>q2                     </td><td>NOTEST                 </td><td> 0.0725212             </td><td> 0.0442820             </td><td>-0.7116840             </td><td> 0.000000              </td><td>1.00000                </td><td>1.000000               </td><td>no                     </td></tr>\n",
       "\t<tr><td>0610007C21Rik          </td><td>0610007C21Rik          </td><td>-                      </td><td>chr5:31036035-31054623 </td><td>q1                     </td><td>q2                     </td><td>OK                     </td><td>50.2687000             </td><td>47.8496000             </td><td>-0.0711526             </td><td>-0.229939              </td><td>0.71855                </td><td>0.839597               </td><td>no                     </td></tr>\n",
       "\t<tr><td>0610007N19Rik          </td><td>0610007N19Rik          </td><td>-                      </td><td>chr15:32240567-32244662</td><td>q1                     </td><td>q2                     </td><td>NOTEST                 </td><td> 0.2385150             </td><td> 0.0629525             </td><td>-1.9217400             </td><td> 0.000000              </td><td>1.00000                </td><td>1.000000               </td><td>no                     </td></tr>\n",
       "\t<tr><td>0610007P08Rik          </td><td>0610007P08Rik          </td><td>-                      </td><td>chr13:63815319-63900301</td><td>q1                     </td><td>q2                     </td><td>OK                     </td><td> 3.5743600             </td><td> 3.1124300             </td><td>-0.1996430             </td><td>-0.579890              </td><td>0.36160                </td><td>0.542589               </td><td>no                     </td></tr>\n",
       "\t<tr><td>0610007P14Rik          </td><td>0610007P14Rik          </td><td>-                      </td><td>chr12:85815454-85824545</td><td>q1                     </td><td>q2                     </td><td>OK                     </td><td>11.6356000             </td><td>10.5723000             </td><td>-0.1382470             </td><td>-0.474073              </td><td>0.54570                </td><td>0.711416               </td><td>no                     </td></tr>\n",
       "\t<tr><td>0610007P22Rik          </td><td>0610007P22Rik          </td><td>-                      </td><td>chr17:25240169-25256364</td><td>q1                     </td><td>q2                     </td><td>OK                     </td><td> 8.7388000             </td><td> 6.8487500             </td><td>-0.3515960             </td><td>-0.945393              </td><td>0.21480                </td><td>0.380104               </td><td>no                     </td></tr>\n",
       "</tbody>\n",
       "</table>\n"
      ],
      "text/latex": [
       "\\begin{tabular}{r|llllllllllllll}\n",
       " test\\_id & gene\\_id & gene & locus & sample\\_1 & sample\\_2 & status & value\\_1 & value\\_2 & log2(fold\\_change) & test\\_stat & p\\_value & q\\_value & significant\\\\\n",
       "\\hline\n",
       "\t 0610005C13Rik           & 0610005C13Rik           & -                       & chr7:45567794-45589710  & q1                      & q2                      & NOTEST                  &  0.0725212              &  0.0442820              & -0.7116840              &  0.000000               & 1.00000                 & 1.000000                & no                     \\\\\n",
       "\t 0610007C21Rik           & 0610007C21Rik           & -                       & chr5:31036035-31054623  & q1                      & q2                      & OK                      & 50.2687000              & 47.8496000              & -0.0711526              & -0.229939               & 0.71855                 & 0.839597                & no                     \\\\\n",
       "\t 0610007N19Rik           & 0610007N19Rik           & -                       & chr15:32240567-32244662 & q1                      & q2                      & NOTEST                  &  0.2385150              &  0.0629525              & -1.9217400              &  0.000000               & 1.00000                 & 1.000000                & no                     \\\\\n",
       "\t 0610007P08Rik           & 0610007P08Rik           & -                       & chr13:63815319-63900301 & q1                      & q2                      & OK                      &  3.5743600              &  3.1124300              & -0.1996430              & -0.579890               & 0.36160                 & 0.542589                & no                     \\\\\n",
       "\t 0610007P14Rik           & 0610007P14Rik           & -                       & chr12:85815454-85824545 & q1                      & q2                      & OK                      & 11.6356000              & 10.5723000              & -0.1382470              & -0.474073               & 0.54570                 & 0.711416                & no                     \\\\\n",
       "\t 0610007P22Rik           & 0610007P22Rik           & -                       & chr17:25240169-25256364 & q1                      & q2                      & OK                      &  8.7388000              &  6.8487500              & -0.3515960              & -0.945393               & 0.21480                 & 0.380104                & no                     \\\\\n",
       "\\end{tabular}\n"
      ],
      "text/markdown": [
       "\n",
       "test_id | gene_id | gene | locus | sample_1 | sample_2 | status | value_1 | value_2 | log2(fold_change) | test_stat | p_value | q_value | significant | \n",
       "|---|---|---|---|---|---|\n",
       "| 0610005C13Rik           | 0610005C13Rik           | -                       | chr7:45567794-45589710  | q1                      | q2                      | NOTEST                  |  0.0725212              |  0.0442820              | -0.7116840              |  0.000000               | 1.00000                 | 1.000000                | no                      | \n",
       "| 0610007C21Rik           | 0610007C21Rik           | -                       | chr5:31036035-31054623  | q1                      | q2                      | OK                      | 50.2687000              | 47.8496000              | -0.0711526              | -0.229939               | 0.71855                 | 0.839597                | no                      | \n",
       "| 0610007N19Rik           | 0610007N19Rik           | -                       | chr15:32240567-32244662 | q1                      | q2                      | NOTEST                  |  0.2385150              |  0.0629525              | -1.9217400              |  0.000000               | 1.00000                 | 1.000000                | no                      | \n",
       "| 0610007P08Rik           | 0610007P08Rik           | -                       | chr13:63815319-63900301 | q1                      | q2                      | OK                      |  3.5743600              |  3.1124300              | -0.1996430              | -0.579890               | 0.36160                 | 0.542589                | no                      | \n",
       "| 0610007P14Rik           | 0610007P14Rik           | -                       | chr12:85815454-85824545 | q1                      | q2                      | OK                      | 11.6356000              | 10.5723000              | -0.1382470              | -0.474073               | 0.54570                 | 0.711416                | no                      | \n",
       "| 0610007P22Rik           | 0610007P22Rik           | -                       | chr17:25240169-25256364 | q1                      | q2                      | OK                      |  8.7388000              |  6.8487500              | -0.3515960              | -0.945393               | 0.21480                 | 0.380104                | no                      | \n",
       "\n",
       "\n"
      ],
      "text/plain": [
       "  test_id       gene_id       gene locus                   sample_1 sample_2\n",
       "1 0610005C13Rik 0610005C13Rik -    chr7:45567794-45589710  q1       q2      \n",
       "2 0610007C21Rik 0610007C21Rik -    chr5:31036035-31054623  q1       q2      \n",
       "3 0610007N19Rik 0610007N19Rik -    chr15:32240567-32244662 q1       q2      \n",
       "4 0610007P08Rik 0610007P08Rik -    chr13:63815319-63900301 q1       q2      \n",
       "5 0610007P14Rik 0610007P14Rik -    chr12:85815454-85824545 q1       q2      \n",
       "6 0610007P22Rik 0610007P22Rik -    chr17:25240169-25256364 q1       q2      \n",
       "  status value_1    value_2    log2(fold_change) test_stat p_value q_value \n",
       "1 NOTEST  0.0725212  0.0442820 -0.7116840         0.000000 1.00000 1.000000\n",
       "2 OK     50.2687000 47.8496000 -0.0711526        -0.229939 0.71855 0.839597\n",
       "3 NOTEST  0.2385150  0.0629525 -1.9217400         0.000000 1.00000 1.000000\n",
       "4 OK      3.5743600  3.1124300 -0.1996430        -0.579890 0.36160 0.542589\n",
       "5 OK     11.6356000 10.5723000 -0.1382470        -0.474073 0.54570 0.711416\n",
       "6 OK      8.7388000  6.8487500 -0.3515960        -0.945393 0.21480 0.380104\n",
       "  significant\n",
       "1 no         \n",
       "2 no         \n",
       "3 no         \n",
       "4 no         \n",
       "5 no         \n",
       "6 no         "
      ]
     },
     "metadata": {},
     "output_type": "display_data"
    }
   ],
   "source": [
    "dfdiff = read_tsv(\"data/CD11CB_output/gene_exp.diff\")\n",
    "dim(dfdiff)\n",
    "head(dfdiff)"
   ]
  },
  {
   "cell_type": "code",
   "execution_count": 59,
   "metadata": {},
   "outputs": [
    {
     "data": {
      "text/plain": [
       "\n",
       "FALSE  TRUE \n",
       "30740     3 "
      ]
     },
     "metadata": {},
     "output_type": "display_data"
    },
    {
     "data": {
      "text/plain": [
       "\n",
       "FALSE \n",
       "30743 "
      ]
     },
     "metadata": {},
     "output_type": "display_data"
    }
   ],
   "source": [
    "table(dfdiff$gene_id %in% dflr$From)\n",
    "table(dfdiff$gene_id %in% dflr$To)"
   ]
  },
  {
   "cell_type": "code",
   "execution_count": 61,
   "metadata": {},
   "outputs": [
    {
     "data": {
      "text/html": [
       "<ol class=list-inline>\n",
       "\t<li>4540</li>\n",
       "\t<li>14</li>\n",
       "</ol>\n"
      ],
      "text/latex": [
       "\\begin{enumerate*}\n",
       "\\item 4540\n",
       "\\item 14\n",
       "\\end{enumerate*}\n"
      ],
      "text/markdown": [
       "1. 4540\n",
       "2. 14\n",
       "\n",
       "\n"
      ],
      "text/plain": [
       "[1] 4540   14"
      ]
     },
     "metadata": {},
     "output_type": "display_data"
    }
   ],
   "source": [
    "dfdiffsig = dfdiff %>% filter(q_value < 0.05)\n",
    "dim(dfdiffsig)"
   ]
  },
  {
   "cell_type": "code",
   "execution_count": 62,
   "metadata": {},
   "outputs": [
    {
     "data": {
      "text/html": [
       "<table>\n",
       "<thead><tr><th scope=col>test_id</th><th scope=col>gene_id</th><th scope=col>gene</th><th scope=col>locus</th><th scope=col>sample_1</th><th scope=col>sample_2</th><th scope=col>status</th><th scope=col>value_1</th><th scope=col>value_2</th><th scope=col>log2(fold_change)</th><th scope=col>test_stat</th><th scope=col>p_value</th><th scope=col>q_value</th><th scope=col>significant</th></tr></thead>\n",
       "<tbody>\n",
       "\t<tr><td>0610010O12Rik          </td><td>0610010O12Rik          </td><td>-                      </td><td>chr18:36348623-36402978</td><td>q1                     </td><td>q2                     </td><td>OK                     </td><td>  4.19646              </td><td>  8.98632              </td><td> 1.098560              </td><td>  2.23989              </td><td>0.00095                </td><td>0.004437260            </td><td>yes                    </td></tr>\n",
       "\t<tr><td>0610031J06Rik          </td><td>0610031J06Rik          </td><td>-                      </td><td>chr3:88325022-88334433 </td><td>q1                     </td><td>q2                     </td><td>OK                     </td><td> 95.85410              </td><td>144.76100              </td><td> 0.594760              </td><td>  2.63080              </td><td>0.00020                </td><td>0.001113440            </td><td>yes                    </td></tr>\n",
       "\t<tr><td>0610040J01Rik          </td><td>0610040J01Rik          </td><td>-                      </td><td>chr5:63812494-63899619 </td><td>q1                     </td><td>q2                     </td><td>OK                     </td><td>  1.49871              </td><td>  3.08289              </td><td> 1.040560              </td><td>  2.24553              </td><td>0.00420                </td><td>0.016218300            </td><td>yes                    </td></tr>\n",
       "\t<tr><td>1100001G20Rik          </td><td>1100001G20Rik          </td><td>-                      </td><td>chr11:83746939-83752646</td><td>q1                     </td><td>q2                     </td><td>OK                     </td><td>301.25100              </td><td> 29.57580              </td><td>-3.348480              </td><td>-18.56810              </td><td>0.00005                </td><td>0.000310039            </td><td>yes                    </td></tr>\n",
       "\t<tr><td>1110002B05Rik          </td><td>1110002B05Rik          </td><td>-                      </td><td>chr12:54645373-54656572</td><td>q1                     </td><td>q2                     </td><td>OK                     </td><td> 39.23150              </td><td> 69.53890              </td><td> 0.825809              </td><td>  3.15057              </td><td>0.00005                </td><td>0.000310039            </td><td>yes                    </td></tr>\n",
       "\t<tr><td>1110003E01Rik          </td><td>1110003E01Rik          </td><td>-                      </td><td>chr5:65448754-65492835 </td><td>q1                     </td><td>q2                     </td><td>OK                     </td><td> 20.49960              </td><td> 34.26780              </td><td> 0.741253              </td><td>  3.10029              </td><td>0.00005                </td><td>0.000310039            </td><td>yes                    </td></tr>\n",
       "</tbody>\n",
       "</table>\n"
      ],
      "text/latex": [
       "\\begin{tabular}{r|llllllllllllll}\n",
       " test\\_id & gene\\_id & gene & locus & sample\\_1 & sample\\_2 & status & value\\_1 & value\\_2 & log2(fold\\_change) & test\\_stat & p\\_value & q\\_value & significant\\\\\n",
       "\\hline\n",
       "\t 0610010O12Rik           & 0610010O12Rik           & -                       & chr18:36348623-36402978 & q1                      & q2                      & OK                      &   4.19646               &   8.98632               &  1.098560               &   2.23989               & 0.00095                 & 0.004437260             & yes                    \\\\\n",
       "\t 0610031J06Rik           & 0610031J06Rik           & -                       & chr3:88325022-88334433  & q1                      & q2                      & OK                      &  95.85410               & 144.76100               &  0.594760               &   2.63080               & 0.00020                 & 0.001113440             & yes                    \\\\\n",
       "\t 0610040J01Rik           & 0610040J01Rik           & -                       & chr5:63812494-63899619  & q1                      & q2                      & OK                      &   1.49871               &   3.08289               &  1.040560               &   2.24553               & 0.00420                 & 0.016218300             & yes                    \\\\\n",
       "\t 1100001G20Rik           & 1100001G20Rik           & -                       & chr11:83746939-83752646 & q1                      & q2                      & OK                      & 301.25100               &  29.57580               & -3.348480               & -18.56810               & 0.00005                 & 0.000310039             & yes                    \\\\\n",
       "\t 1110002B05Rik           & 1110002B05Rik           & -                       & chr12:54645373-54656572 & q1                      & q2                      & OK                      &  39.23150               &  69.53890               &  0.825809               &   3.15057               & 0.00005                 & 0.000310039             & yes                    \\\\\n",
       "\t 1110003E01Rik           & 1110003E01Rik           & -                       & chr5:65448754-65492835  & q1                      & q2                      & OK                      &  20.49960               &  34.26780               &  0.741253               &   3.10029               & 0.00005                 & 0.000310039             & yes                    \\\\\n",
       "\\end{tabular}\n"
      ],
      "text/markdown": [
       "\n",
       "test_id | gene_id | gene | locus | sample_1 | sample_2 | status | value_1 | value_2 | log2(fold_change) | test_stat | p_value | q_value | significant | \n",
       "|---|---|---|---|---|---|\n",
       "| 0610010O12Rik           | 0610010O12Rik           | -                       | chr18:36348623-36402978 | q1                      | q2                      | OK                      |   4.19646               |   8.98632               |  1.098560               |   2.23989               | 0.00095                 | 0.004437260             | yes                     | \n",
       "| 0610031J06Rik           | 0610031J06Rik           | -                       | chr3:88325022-88334433  | q1                      | q2                      | OK                      |  95.85410               | 144.76100               |  0.594760               |   2.63080               | 0.00020                 | 0.001113440             | yes                     | \n",
       "| 0610040J01Rik           | 0610040J01Rik           | -                       | chr5:63812494-63899619  | q1                      | q2                      | OK                      |   1.49871               |   3.08289               |  1.040560               |   2.24553               | 0.00420                 | 0.016218300             | yes                     | \n",
       "| 1100001G20Rik           | 1100001G20Rik           | -                       | chr11:83746939-83752646 | q1                      | q2                      | OK                      | 301.25100               |  29.57580               | -3.348480               | -18.56810               | 0.00005                 | 0.000310039             | yes                     | \n",
       "| 1110002B05Rik           | 1110002B05Rik           | -                       | chr12:54645373-54656572 | q1                      | q2                      | OK                      |  39.23150               |  69.53890               |  0.825809               |   3.15057               | 0.00005                 | 0.000310039             | yes                     | \n",
       "| 1110003E01Rik           | 1110003E01Rik           | -                       | chr5:65448754-65492835  | q1                      | q2                      | OK                      |  20.49960               |  34.26780               |  0.741253               |   3.10029               | 0.00005                 | 0.000310039             | yes                     | \n",
       "\n",
       "\n"
      ],
      "text/plain": [
       "  test_id       gene_id       gene locus                   sample_1 sample_2\n",
       "1 0610010O12Rik 0610010O12Rik -    chr18:36348623-36402978 q1       q2      \n",
       "2 0610031J06Rik 0610031J06Rik -    chr3:88325022-88334433  q1       q2      \n",
       "3 0610040J01Rik 0610040J01Rik -    chr5:63812494-63899619  q1       q2      \n",
       "4 1100001G20Rik 1100001G20Rik -    chr11:83746939-83752646 q1       q2      \n",
       "5 1110002B05Rik 1110002B05Rik -    chr12:54645373-54656572 q1       q2      \n",
       "6 1110003E01Rik 1110003E01Rik -    chr5:65448754-65492835  q1       q2      \n",
       "  status value_1   value_2   log2(fold_change) test_stat p_value q_value    \n",
       "1 OK       4.19646   8.98632  1.098560           2.23989 0.00095 0.004437260\n",
       "2 OK      95.85410 144.76100  0.594760           2.63080 0.00020 0.001113440\n",
       "3 OK       1.49871   3.08289  1.040560           2.24553 0.00420 0.016218300\n",
       "4 OK     301.25100  29.57580 -3.348480         -18.56810 0.00005 0.000310039\n",
       "5 OK      39.23150  69.53890  0.825809           3.15057 0.00005 0.000310039\n",
       "6 OK      20.49960  34.26780  0.741253           3.10029 0.00005 0.000310039\n",
       "  significant\n",
       "1 yes        \n",
       "2 yes        \n",
       "3 yes        \n",
       "4 yes        \n",
       "5 yes        \n",
       "6 yes        "
      ]
     },
     "metadata": {},
     "output_type": "display_data"
    }
   ],
   "source": [
    "dfdiffsig %>% head"
   ]
  },
  {
   "cell_type": "code",
   "execution_count": 63,
   "metadata": {},
   "outputs": [
    {
     "data": {
      "text/plain": [
       "\n",
       "FALSE  TRUE \n",
       " 4539     1 "
      ]
     },
     "metadata": {},
     "output_type": "display_data"
    },
    {
     "data": {
      "text/plain": [
       "\n",
       "FALSE \n",
       " 4540 "
      ]
     },
     "metadata": {},
     "output_type": "display_data"
    }
   ],
   "source": [
    "table(dfdiffsig$gene_id %in% dflr$From)\n",
    "table(dfdiffsig$gene_id %in% dflr$To)"
   ]
  },
  {
   "cell_type": "code",
   "execution_count": 64,
   "metadata": {},
   "outputs": [
    {
     "data": {
      "text/plain": [
       "\n",
       "FALSE  TRUE \n",
       "14743 16000 "
      ]
     },
     "metadata": {},
     "output_type": "display_data"
    }
   ],
   "source": [
    "table(dfdiff$gene_id %in% df2$mice_gene_symbol)"
   ]
  },
  {
   "cell_type": "code",
   "execution_count": 65,
   "metadata": {},
   "outputs": [],
   "source": [
    "dfdiffsig %<>% rename(mice_gene_symbol = gene_id)"
   ]
  },
  {
   "cell_type": "code",
   "execution_count": 71,
   "metadata": {},
   "outputs": [
    {
     "data": {
      "text/html": [
       "<ol class=list-inline>\n",
       "\t<li>4540</li>\n",
       "\t<li>14</li>\n",
       "</ol>\n"
      ],
      "text/latex": [
       "\\begin{enumerate*}\n",
       "\\item 4540\n",
       "\\item 14\n",
       "\\end{enumerate*}\n"
      ],
      "text/markdown": [
       "1. 4540\n",
       "2. 14\n",
       "\n",
       "\n"
      ],
      "text/plain": [
       "[1] 4540   14"
      ]
     },
     "metadata": {},
     "output_type": "display_data"
    },
    {
     "data": {
      "text/html": [
       "<ol class=list-inline>\n",
       "\t<li>16024</li>\n",
       "\t<li>7</li>\n",
       "</ol>\n"
      ],
      "text/latex": [
       "\\begin{enumerate*}\n",
       "\\item 16024\n",
       "\\item 7\n",
       "\\end{enumerate*}\n"
      ],
      "text/markdown": [
       "1. 16024\n",
       "2. 7\n",
       "\n",
       "\n"
      ],
      "text/plain": [
       "[1] 16024     7"
      ]
     },
     "metadata": {},
     "output_type": "display_data"
    },
    {
     "data": {
      "text/html": [
       "<ol class=list-inline>\n",
       "\t<li>3960</li>\n",
       "\t<li>20</li>\n",
       "</ol>\n"
      ],
      "text/latex": [
       "\\begin{enumerate*}\n",
       "\\item 3960\n",
       "\\item 20\n",
       "\\end{enumerate*}\n"
      ],
      "text/markdown": [
       "1. 3960\n",
       "2. 20\n",
       "\n",
       "\n"
      ],
      "text/plain": [
       "[1] 3960   20"
      ]
     },
     "metadata": {},
     "output_type": "display_data"
    }
   ],
   "source": [
    "dfnew = inner_join(dfdiffsig, df2, by=\"mice_gene_symbol\")\n",
    "\n",
    "dim(dfdiffsig)\n",
    "dim(df2)\n",
    "dim(dfnew)"
   ]
  },
  {
   "cell_type": "code",
   "execution_count": 72,
   "metadata": {},
   "outputs": [
    {
     "data": {
      "text/html": [
       "<table>\n",
       "<thead><tr><th scope=col>test_id</th><th scope=col>mice_gene_symbol</th><th scope=col>gene</th><th scope=col>locus</th><th scope=col>sample_1</th><th scope=col>sample_2</th><th scope=col>status</th><th scope=col>value_1</th><th scope=col>value_2</th><th scope=col>log2(fold_change)</th><th scope=col>test_stat</th><th scope=col>p_value</th><th scope=col>q_value</th><th scope=col>significant</th><th scope=col>human_gene_symbol</th><th scope=col>macrophage_tum1</th><th scope=col>macrophage_tum2</th><th scope=col>macrophage_tum3</th><th scope=col>macrophage_wt1</th><th scope=col>macrophage_wt2</th></tr></thead>\n",
       "<tbody>\n",
       "\t<tr><td>0610031J06Rik          </td><td>0610031J06Rik          </td><td>-                      </td><td>chr3:88325022-88334433 </td><td>q1                     </td><td>q2                     </td><td>OK                     </td><td>95.85410               </td><td>144.76100              </td><td> 0.594760              </td><td> 2.63080               </td><td>0.00020                </td><td>0.001113440            </td><td>yes                    </td><td>C1orf85                </td><td>133.42500              </td><td>127.52200              </td><td>173.33500              </td><td>94.28420               </td><td>97.424100              </td></tr>\n",
       "\t<tr><td>0610040J01Rik          </td><td>0610040J01Rik          </td><td>-                      </td><td>chr5:63812494-63899619 </td><td>q1                     </td><td>q2                     </td><td>OK                     </td><td> 1.49871               </td><td>  3.08289              </td><td> 1.040560              </td><td> 2.24553               </td><td>0.00420                </td><td>0.016218300            </td><td>yes                    </td><td>C4orf19                </td><td>  2.96581              </td><td>  2.68016              </td><td>  3.60270              </td><td> 2.28981               </td><td> 0.707607              </td></tr>\n",
       "\t<tr><td>1110004E09Rik          </td><td>1110004E09Rik          </td><td>-                      </td><td>chr16:90925810-90934849</td><td>q1                     </td><td>q2                     </td><td>OK                     </td><td> 6.87182               </td><td>  3.61107              </td><td>-0.928265              </td><td>-2.01664               </td><td>0.00230                </td><td>0.009651240            </td><td>yes                    </td><td>C21orf59               </td><td>  3.24060              </td><td>  4.02885              </td><td>  3.56376              </td><td> 6.85421               </td><td> 6.889420              </td></tr>\n",
       "\t<tr><td>1110007C09Rik          </td><td>1110007C09Rik          </td><td>-                      </td><td>chr13:49202950-49216026</td><td>q1                     </td><td>q2                     </td><td>OK                     </td><td>22.56080               </td><td> 77.52120              </td><td> 1.780770              </td><td> 5.93473               </td><td>0.00005                </td><td>0.000310039            </td><td>yes                    </td><td>C9orf89                </td><td> 73.81260              </td><td> 82.17620              </td><td> 76.57470              </td><td>20.49440               </td><td>24.627200              </td></tr>\n",
       "\t<tr><td>1110008P14Rik          </td><td>1110008P14Rik          </td><td>-                      </td><td>chr2:32379100-32381915 </td><td>q1                     </td><td>q2                     </td><td>OK                     </td><td>44.86820               </td><td> 31.28500              </td><td>-0.520225              </td><td>-2.38585               </td><td>0.01150                </td><td>0.038342300            </td><td>yes                    </td><td>C9orf16                </td><td> 30.46420              </td><td> 31.81370              </td><td> 31.57710              </td><td>41.20380               </td><td>48.532700              </td></tr>\n",
       "\t<tr><td>1110038F14Rik          </td><td>1110038F14Rik          </td><td>-                      </td><td>chr15:76948508-76950731</td><td>q1                     </td><td>q2                     </td><td>OK                     </td><td>19.35170               </td><td> 13.43940              </td><td>-0.525995              </td><td>-1.59101               </td><td>0.01425                </td><td>0.045744300            </td><td>yes                    </td><td>C8orf33                </td><td> 10.98070              </td><td> 14.76960              </td><td> 14.56780              </td><td>20.45830               </td><td>18.245000              </td></tr>\n",
       "</tbody>\n",
       "</table>\n"
      ],
      "text/latex": [
       "\\begin{tabular}{r|llllllllllllllllllll}\n",
       " test\\_id & mice\\_gene\\_symbol & gene & locus & sample\\_1 & sample\\_2 & status & value\\_1 & value\\_2 & log2(fold\\_change) & test\\_stat & p\\_value & q\\_value & significant & human\\_gene\\_symbol & macrophage\\_tum1 & macrophage\\_tum2 & macrophage\\_tum3 & macrophage\\_wt1 & macrophage\\_wt2\\\\\n",
       "\\hline\n",
       "\t 0610031J06Rik           & 0610031J06Rik           & -                       & chr3:88325022-88334433  & q1                      & q2                      & OK                      & 95.85410                & 144.76100               &  0.594760               &  2.63080                & 0.00020                 & 0.001113440             & yes                     & C1orf85                 & 133.42500               & 127.52200               & 173.33500               & 94.28420                & 97.424100              \\\\\n",
       "\t 0610040J01Rik           & 0610040J01Rik           & -                       & chr5:63812494-63899619  & q1                      & q2                      & OK                      &  1.49871                &   3.08289               &  1.040560               &  2.24553                & 0.00420                 & 0.016218300             & yes                     & C4orf19                 &   2.96581               &   2.68016               &   3.60270               &  2.28981                &  0.707607              \\\\\n",
       "\t 1110004E09Rik           & 1110004E09Rik           & -                       & chr16:90925810-90934849 & q1                      & q2                      & OK                      &  6.87182                &   3.61107               & -0.928265               & -2.01664                & 0.00230                 & 0.009651240             & yes                     & C21orf59                &   3.24060               &   4.02885               &   3.56376               &  6.85421                &  6.889420              \\\\\n",
       "\t 1110007C09Rik           & 1110007C09Rik           & -                       & chr13:49202950-49216026 & q1                      & q2                      & OK                      & 22.56080                &  77.52120               &  1.780770               &  5.93473                & 0.00005                 & 0.000310039             & yes                     & C9orf89                 &  73.81260               &  82.17620               &  76.57470               & 20.49440                & 24.627200              \\\\\n",
       "\t 1110008P14Rik           & 1110008P14Rik           & -                       & chr2:32379100-32381915  & q1                      & q2                      & OK                      & 44.86820                &  31.28500               & -0.520225               & -2.38585                & 0.01150                 & 0.038342300             & yes                     & C9orf16                 &  30.46420               &  31.81370               &  31.57710               & 41.20380                & 48.532700              \\\\\n",
       "\t 1110038F14Rik           & 1110038F14Rik           & -                       & chr15:76948508-76950731 & q1                      & q2                      & OK                      & 19.35170                &  13.43940               & -0.525995               & -1.59101                & 0.01425                 & 0.045744300             & yes                     & C8orf33                 &  10.98070               &  14.76960               &  14.56780               & 20.45830                & 18.245000              \\\\\n",
       "\\end{tabular}\n"
      ],
      "text/markdown": [
       "\n",
       "test_id | mice_gene_symbol | gene | locus | sample_1 | sample_2 | status | value_1 | value_2 | log2(fold_change) | test_stat | p_value | q_value | significant | human_gene_symbol | macrophage_tum1 | macrophage_tum2 | macrophage_tum3 | macrophage_wt1 | macrophage_wt2 | \n",
       "|---|---|---|---|---|---|\n",
       "| 0610031J06Rik           | 0610031J06Rik           | -                       | chr3:88325022-88334433  | q1                      | q2                      | OK                      | 95.85410                | 144.76100               |  0.594760               |  2.63080                | 0.00020                 | 0.001113440             | yes                     | C1orf85                 | 133.42500               | 127.52200               | 173.33500               | 94.28420                | 97.424100               | \n",
       "| 0610040J01Rik           | 0610040J01Rik           | -                       | chr5:63812494-63899619  | q1                      | q2                      | OK                      |  1.49871                |   3.08289               |  1.040560               |  2.24553                | 0.00420                 | 0.016218300             | yes                     | C4orf19                 |   2.96581               |   2.68016               |   3.60270               |  2.28981                |  0.707607               | \n",
       "| 1110004E09Rik           | 1110004E09Rik           | -                       | chr16:90925810-90934849 | q1                      | q2                      | OK                      |  6.87182                |   3.61107               | -0.928265               | -2.01664                | 0.00230                 | 0.009651240             | yes                     | C21orf59                |   3.24060               |   4.02885               |   3.56376               |  6.85421                |  6.889420               | \n",
       "| 1110007C09Rik           | 1110007C09Rik           | -                       | chr13:49202950-49216026 | q1                      | q2                      | OK                      | 22.56080                |  77.52120               |  1.780770               |  5.93473                | 0.00005                 | 0.000310039             | yes                     | C9orf89                 |  73.81260               |  82.17620               |  76.57470               | 20.49440                | 24.627200               | \n",
       "| 1110008P14Rik           | 1110008P14Rik           | -                       | chr2:32379100-32381915  | q1                      | q2                      | OK                      | 44.86820                |  31.28500               | -0.520225               | -2.38585                | 0.01150                 | 0.038342300             | yes                     | C9orf16                 |  30.46420               |  31.81370               |  31.57710               | 41.20380                | 48.532700               | \n",
       "| 1110038F14Rik           | 1110038F14Rik           | -                       | chr15:76948508-76950731 | q1                      | q2                      | OK                      | 19.35170                |  13.43940               | -0.525995               | -1.59101                | 0.01425                 | 0.045744300             | yes                     | C8orf33                 |  10.98070               |  14.76960               |  14.56780               | 20.45830                | 18.245000               | \n",
       "\n",
       "\n"
      ],
      "text/plain": [
       "  test_id       mice_gene_symbol gene locus                   sample_1 sample_2\n",
       "1 0610031J06Rik 0610031J06Rik    -    chr3:88325022-88334433  q1       q2      \n",
       "2 0610040J01Rik 0610040J01Rik    -    chr5:63812494-63899619  q1       q2      \n",
       "3 1110004E09Rik 1110004E09Rik    -    chr16:90925810-90934849 q1       q2      \n",
       "4 1110007C09Rik 1110007C09Rik    -    chr13:49202950-49216026 q1       q2      \n",
       "5 1110008P14Rik 1110008P14Rik    -    chr2:32379100-32381915  q1       q2      \n",
       "6 1110038F14Rik 1110038F14Rik    -    chr15:76948508-76950731 q1       q2      \n",
       "  status value_1  value_2   log2(fold_change) test_stat p_value q_value    \n",
       "1 OK     95.85410 144.76100  0.594760          2.63080  0.00020 0.001113440\n",
       "2 OK      1.49871   3.08289  1.040560          2.24553  0.00420 0.016218300\n",
       "3 OK      6.87182   3.61107 -0.928265         -2.01664  0.00230 0.009651240\n",
       "4 OK     22.56080  77.52120  1.780770          5.93473  0.00005 0.000310039\n",
       "5 OK     44.86820  31.28500 -0.520225         -2.38585  0.01150 0.038342300\n",
       "6 OK     19.35170  13.43940 -0.525995         -1.59101  0.01425 0.045744300\n",
       "  significant human_gene_symbol macrophage_tum1 macrophage_tum2 macrophage_tum3\n",
       "1 yes         C1orf85           133.42500       127.52200       173.33500      \n",
       "2 yes         C4orf19             2.96581         2.68016         3.60270      \n",
       "3 yes         C21orf59            3.24060         4.02885         3.56376      \n",
       "4 yes         C9orf89            73.81260        82.17620        76.57470      \n",
       "5 yes         C9orf16            30.46420        31.81370        31.57710      \n",
       "6 yes         C8orf33            10.98070        14.76960        14.56780      \n",
       "  macrophage_wt1 macrophage_wt2\n",
       "1 94.28420       97.424100     \n",
       "2  2.28981        0.707607     \n",
       "3  6.85421        6.889420     \n",
       "4 20.49440       24.627200     \n",
       "5 41.20380       48.532700     \n",
       "6 20.45830       18.245000     "
      ]
     },
     "metadata": {},
     "output_type": "display_data"
    }
   ],
   "source": [
    "dfnew %>% head"
   ]
  },
  {
   "cell_type": "code",
   "execution_count": 73,
   "metadata": {},
   "outputs": [],
   "source": [
    "dfnew %<>% mutate(is_receptor = human_gene_symbol %in% dflr$To)"
   ]
  },
  {
   "cell_type": "code",
   "execution_count": 74,
   "metadata": {},
   "outputs": [],
   "source": [
    "dfnew %<>% mutate(is_ligand = human_gene_symbol %in% dflr$From)"
   ]
  },
  {
   "cell_type": "code",
   "execution_count": 76,
   "metadata": {},
   "outputs": [
    {
     "data": {
      "text/html": [
       "100"
      ],
      "text/latex": [
       "100"
      ],
      "text/markdown": [
       "100"
      ],
      "text/plain": [
       "[1] 100"
      ]
     },
     "metadata": {},
     "output_type": "display_data"
    },
    {
     "data": {
      "text/html": [
       "110"
      ],
      "text/latex": [
       "110"
      ],
      "text/markdown": [
       "110"
      ],
      "text/plain": [
       "[1] 110"
      ]
     },
     "metadata": {},
     "output_type": "display_data"
    }
   ],
   "source": [
    "sum(dfnew$is_ligand)\n",
    "sum(dfnew$is_receptor)"
   ]
  },
  {
   "cell_type": "markdown",
   "metadata": {},
   "source": [
    "differentially regulated ligands in the intratumoral stromal cells and tumor epithelial cells compared to WT counterparts, using a set of selection criteria based on FPKM > 2, fold change > 1.5, and adjusted p value < 0.1"
   ]
  },
  {
   "cell_type": "code",
   "execution_count": 80,
   "metadata": {},
   "outputs": [
    {
     "name": "stderr",
     "output_type": "stream",
     "text": [
      "Parsed with column specification:\n",
      "cols(\n",
      "  test_id = col_character(),\n",
      "  gene_id = col_character(),\n",
      "  gene = col_character(),\n",
      "  locus = col_character(),\n",
      "  sample_1 = col_character(),\n",
      "  sample_2 = col_character(),\n",
      "  status = col_character(),\n",
      "  value_1 = col_double(),\n",
      "  value_2 = col_double(),\n",
      "  `log2(fold_change)` = col_double(),\n",
      "  test_stat = col_double(),\n",
      "  p_value = col_double(),\n",
      "  q_value = col_double(),\n",
      "  significant = col_character()\n",
      ")\n"
     ]
    },
    {
     "data": {
      "text/html": [
       "<ol class=list-inline>\n",
       "\t<li>30743</li>\n",
       "\t<li>14</li>\n",
       "</ol>\n"
      ],
      "text/latex": [
       "\\begin{enumerate*}\n",
       "\\item 30743\n",
       "\\item 14\n",
       "\\end{enumerate*}\n"
      ],
      "text/markdown": [
       "1. 30743\n",
       "2. 14\n",
       "\n",
       "\n"
      ],
      "text/plain": [
       "[1] 30743    14"
      ]
     },
     "metadata": {},
     "output_type": "display_data"
    },
    {
     "data": {
      "text/html": [
       "<table>\n",
       "<thead><tr><th scope=col>test_id</th><th scope=col>gene_id</th><th scope=col>gene</th><th scope=col>locus</th><th scope=col>sample_1</th><th scope=col>sample_2</th><th scope=col>status</th><th scope=col>value_1</th><th scope=col>value_2</th><th scope=col>log2(fold_change)</th><th scope=col>test_stat</th><th scope=col>p_value</th><th scope=col>q_value</th><th scope=col>significant</th></tr></thead>\n",
       "<tbody>\n",
       "\t<tr><td>0610005C13Rik          </td><td>0610005C13Rik          </td><td>-                      </td><td>chr7:45567794-45589710 </td><td>q1                     </td><td>q2                     </td><td>NOTEST                 </td><td> 0.0725212             </td><td> 0.0442820             </td><td>-0.7116840             </td><td> 0.000000              </td><td>1.00000                </td><td>1.000000               </td><td>no                     </td></tr>\n",
       "\t<tr><td>0610007C21Rik          </td><td>0610007C21Rik          </td><td>-                      </td><td>chr5:31036035-31054623 </td><td>q1                     </td><td>q2                     </td><td>OK                     </td><td>50.2687000             </td><td>47.8496000             </td><td>-0.0711526             </td><td>-0.229939              </td><td>0.71855                </td><td>0.839597               </td><td>no                     </td></tr>\n",
       "\t<tr><td>0610007N19Rik          </td><td>0610007N19Rik          </td><td>-                      </td><td>chr15:32240567-32244662</td><td>q1                     </td><td>q2                     </td><td>NOTEST                 </td><td> 0.2385150             </td><td> 0.0629525             </td><td>-1.9217400             </td><td> 0.000000              </td><td>1.00000                </td><td>1.000000               </td><td>no                     </td></tr>\n",
       "\t<tr><td>0610007P08Rik          </td><td>0610007P08Rik          </td><td>-                      </td><td>chr13:63815319-63900301</td><td>q1                     </td><td>q2                     </td><td>OK                     </td><td> 3.5743600             </td><td> 3.1124300             </td><td>-0.1996430             </td><td>-0.579890              </td><td>0.36160                </td><td>0.542589               </td><td>no                     </td></tr>\n",
       "\t<tr><td>0610007P14Rik          </td><td>0610007P14Rik          </td><td>-                      </td><td>chr12:85815454-85824545</td><td>q1                     </td><td>q2                     </td><td>OK                     </td><td>11.6356000             </td><td>10.5723000             </td><td>-0.1382470             </td><td>-0.474073              </td><td>0.54570                </td><td>0.711416               </td><td>no                     </td></tr>\n",
       "\t<tr><td>0610007P22Rik          </td><td>0610007P22Rik          </td><td>-                      </td><td>chr17:25240169-25256364</td><td>q1                     </td><td>q2                     </td><td>OK                     </td><td> 8.7388000             </td><td> 6.8487500             </td><td>-0.3515960             </td><td>-0.945393              </td><td>0.21480                </td><td>0.380104               </td><td>no                     </td></tr>\n",
       "</tbody>\n",
       "</table>\n"
      ],
      "text/latex": [
       "\\begin{tabular}{r|llllllllllllll}\n",
       " test\\_id & gene\\_id & gene & locus & sample\\_1 & sample\\_2 & status & value\\_1 & value\\_2 & log2(fold\\_change) & test\\_stat & p\\_value & q\\_value & significant\\\\\n",
       "\\hline\n",
       "\t 0610005C13Rik           & 0610005C13Rik           & -                       & chr7:45567794-45589710  & q1                      & q2                      & NOTEST                  &  0.0725212              &  0.0442820              & -0.7116840              &  0.000000               & 1.00000                 & 1.000000                & no                     \\\\\n",
       "\t 0610007C21Rik           & 0610007C21Rik           & -                       & chr5:31036035-31054623  & q1                      & q2                      & OK                      & 50.2687000              & 47.8496000              & -0.0711526              & -0.229939               & 0.71855                 & 0.839597                & no                     \\\\\n",
       "\t 0610007N19Rik           & 0610007N19Rik           & -                       & chr15:32240567-32244662 & q1                      & q2                      & NOTEST                  &  0.2385150              &  0.0629525              & -1.9217400              &  0.000000               & 1.00000                 & 1.000000                & no                     \\\\\n",
       "\t 0610007P08Rik           & 0610007P08Rik           & -                       & chr13:63815319-63900301 & q1                      & q2                      & OK                      &  3.5743600              &  3.1124300              & -0.1996430              & -0.579890               & 0.36160                 & 0.542589                & no                     \\\\\n",
       "\t 0610007P14Rik           & 0610007P14Rik           & -                       & chr12:85815454-85824545 & q1                      & q2                      & OK                      & 11.6356000              & 10.5723000              & -0.1382470              & -0.474073               & 0.54570                 & 0.711416                & no                     \\\\\n",
       "\t 0610007P22Rik           & 0610007P22Rik           & -                       & chr17:25240169-25256364 & q1                      & q2                      & OK                      &  8.7388000              &  6.8487500              & -0.3515960              & -0.945393               & 0.21480                 & 0.380104                & no                     \\\\\n",
       "\\end{tabular}\n"
      ],
      "text/markdown": [
       "\n",
       "test_id | gene_id | gene | locus | sample_1 | sample_2 | status | value_1 | value_2 | log2(fold_change) | test_stat | p_value | q_value | significant | \n",
       "|---|---|---|---|---|---|\n",
       "| 0610005C13Rik           | 0610005C13Rik           | -                       | chr7:45567794-45589710  | q1                      | q2                      | NOTEST                  |  0.0725212              |  0.0442820              | -0.7116840              |  0.000000               | 1.00000                 | 1.000000                | no                      | \n",
       "| 0610007C21Rik           | 0610007C21Rik           | -                       | chr5:31036035-31054623  | q1                      | q2                      | OK                      | 50.2687000              | 47.8496000              | -0.0711526              | -0.229939               | 0.71855                 | 0.839597                | no                      | \n",
       "| 0610007N19Rik           | 0610007N19Rik           | -                       | chr15:32240567-32244662 | q1                      | q2                      | NOTEST                  |  0.2385150              |  0.0629525              | -1.9217400              |  0.000000               | 1.00000                 | 1.000000                | no                      | \n",
       "| 0610007P08Rik           | 0610007P08Rik           | -                       | chr13:63815319-63900301 | q1                      | q2                      | OK                      |  3.5743600              |  3.1124300              | -0.1996430              | -0.579890               | 0.36160                 | 0.542589                | no                      | \n",
       "| 0610007P14Rik           | 0610007P14Rik           | -                       | chr12:85815454-85824545 | q1                      | q2                      | OK                      | 11.6356000              | 10.5723000              | -0.1382470              | -0.474073               | 0.54570                 | 0.711416                | no                      | \n",
       "| 0610007P22Rik           | 0610007P22Rik           | -                       | chr17:25240169-25256364 | q1                      | q2                      | OK                      |  8.7388000              |  6.8487500              | -0.3515960              | -0.945393               | 0.21480                 | 0.380104                | no                      | \n",
       "\n",
       "\n"
      ],
      "text/plain": [
       "  test_id       gene_id       gene locus                   sample_1 sample_2\n",
       "1 0610005C13Rik 0610005C13Rik -    chr7:45567794-45589710  q1       q2      \n",
       "2 0610007C21Rik 0610007C21Rik -    chr5:31036035-31054623  q1       q2      \n",
       "3 0610007N19Rik 0610007N19Rik -    chr15:32240567-32244662 q1       q2      \n",
       "4 0610007P08Rik 0610007P08Rik -    chr13:63815319-63900301 q1       q2      \n",
       "5 0610007P14Rik 0610007P14Rik -    chr12:85815454-85824545 q1       q2      \n",
       "6 0610007P22Rik 0610007P22Rik -    chr17:25240169-25256364 q1       q2      \n",
       "  status value_1    value_2    log2(fold_change) test_stat p_value q_value \n",
       "1 NOTEST  0.0725212  0.0442820 -0.7116840         0.000000 1.00000 1.000000\n",
       "2 OK     50.2687000 47.8496000 -0.0711526        -0.229939 0.71855 0.839597\n",
       "3 NOTEST  0.2385150  0.0629525 -1.9217400         0.000000 1.00000 1.000000\n",
       "4 OK      3.5743600  3.1124300 -0.1996430        -0.579890 0.36160 0.542589\n",
       "5 OK     11.6356000 10.5723000 -0.1382470        -0.474073 0.54570 0.711416\n",
       "6 OK      8.7388000  6.8487500 -0.3515960        -0.945393 0.21480 0.380104\n",
       "  significant\n",
       "1 no         \n",
       "2 no         \n",
       "3 no         \n",
       "4 no         \n",
       "5 no         \n",
       "6 no         "
      ]
     },
     "metadata": {},
     "output_type": "display_data"
    }
   ],
   "source": [
    "deg_macrophage = read_tsv(\"data/CD11CB_output/gene_exp.diff\")\n",
    "dim(deg_macrophage)\n",
    "head(deg_macrophage)"
   ]
  },
  {
   "cell_type": "code",
   "execution_count": 83,
   "metadata": {},
   "outputs": [
    {
     "ename": "ERROR",
     "evalue": "Error: `by` can't contain join column `mice_gene_symbol` which is missing from RHS\n",
     "output_type": "error",
     "traceback": [
      "Error: `by` can't contain join column `mice_gene_symbol` which is missing from RHS\nTraceback:\n",
      "1. left_join(deg_macrophage, dflr, by = c(gene_id = \"mice_gene_symbol\"))",
      "2. left_join.tbl_df(deg_macrophage, dflr, by = c(gene_id = \"mice_gene_symbol\"))",
      "3. common_by(by, x, y)",
      "4. common_by.character(by, x, y)",
      "5. common_by.list(by, x, y)",
      "6. bad_args(\"by\", \"can't contain join column {missing} which is missing from RHS\", \n .     missing = fmt_obj(setdiff(by$y, y_vars)))",
      "7. glubort(fmt_args(args), ..., .envir = .envir)",
      "8. .abort(text)"
     ]
    }
   ],
   "source": [
    "deg_macrophage2 = left_join(deg_macrophage, dflr, by=c(\"gene_id\" = \"mice_gene_symbol\"))\n"
   ]
  },
  {
   "cell_type": "code",
   "execution_count": 79,
   "metadata": {},
   "outputs": [
    {
     "data": {
      "text/html": [
       "<ol class=list-inline>\n",
       "\t<li>390</li>\n",
       "\t<li>14</li>\n",
       "</ol>\n"
      ],
      "text/latex": [
       "\\begin{enumerate*}\n",
       "\\item 390\n",
       "\\item 14\n",
       "\\end{enumerate*}\n"
      ],
      "text/markdown": [
       "1. 390\n",
       "2. 14\n",
       "\n",
       "\n"
      ],
      "text/plain": [
       "[1] 390  14"
      ]
     },
     "metadata": {},
     "output_type": "display_data"
    }
   ],
   "source": [
    "deg_macrophage =\n",
    "    dfdiff %>% filter(`log2(fold_change)` > 1.5, value_1 > 2, q_value < 0.1)\n",
    "deg_macrophage_"
   ]
  },
  {
   "cell_type": "code",
   "execution_count": null,
   "metadata": {},
   "outputs": [],
   "source": [
    "dfhom %>% gather()"
   ]
  },
  {
   "cell_type": "code",
   "execution_count": 91,
   "metadata": {},
   "outputs": [
    {
     "data": {
      "text/html": [
       "<table>\n",
       "<thead><tr><th scope=col>time</th><th scope=col>stock</th><th scope=col>price</th></tr></thead>\n",
       "<tbody>\n",
       "\t<tr><td>2009-01-01</td><td>X         </td><td> 0.7533872</td></tr>\n",
       "\t<tr><td>2009-01-02</td><td>X         </td><td>-0.5477809</td></tr>\n",
       "\t<tr><td>2009-01-03</td><td>X         </td><td>-0.6300103</td></tr>\n",
       "\t<tr><td>2009-01-04</td><td>X         </td><td>-0.2954315</td></tr>\n",
       "\t<tr><td>2009-01-05</td><td>X         </td><td> 0.6227390</td></tr>\n",
       "\t<tr><td>2009-01-06</td><td>X         </td><td>-1.7593439</td></tr>\n",
       "\t<tr><td>2009-01-07</td><td>X         </td><td> 0.4836467</td></tr>\n",
       "\t<tr><td>2009-01-08</td><td>X         </td><td>-0.7243929</td></tr>\n",
       "\t<tr><td>2009-01-09</td><td>X         </td><td>-0.6973255</td></tr>\n",
       "\t<tr><td>2009-01-10</td><td>X         </td><td>-0.6319607</td></tr>\n",
       "\t<tr><td>2009-01-01</td><td>Y         </td><td>-2.2543771</td></tr>\n",
       "\t<tr><td>2009-01-02</td><td>Y         </td><td> 0.4906560</td></tr>\n",
       "\t<tr><td>2009-01-03</td><td>Y         </td><td>-2.6568473</td></tr>\n",
       "\t<tr><td>2009-01-04</td><td>Y         </td><td>-0.7726514</td></tr>\n",
       "\t<tr><td>2009-01-05</td><td>Y         </td><td> 1.6084312</td></tr>\n",
       "\t<tr><td>2009-01-06</td><td>Y         </td><td> 0.7387330</td></tr>\n",
       "\t<tr><td>2009-01-07</td><td>Y         </td><td>-0.6197154</td></tr>\n",
       "\t<tr><td>2009-01-08</td><td>Y         </td><td> 0.6752242</td></tr>\n",
       "\t<tr><td>2009-01-09</td><td>Y         </td><td>-1.4196808</td></tr>\n",
       "\t<tr><td>2009-01-10</td><td>Y         </td><td>-2.0067363</td></tr>\n",
       "\t<tr><td>2009-01-01</td><td>Z         </td><td> 1.6562782</td></tr>\n",
       "\t<tr><td>2009-01-02</td><td>Z         </td><td> 2.1241523</td></tr>\n",
       "\t<tr><td>2009-01-03</td><td>Z         </td><td>-0.1450357</td></tr>\n",
       "\t<tr><td>2009-01-04</td><td>Z         </td><td> 0.3297469</td></tr>\n",
       "\t<tr><td>2009-01-05</td><td>Z         </td><td> 2.5607537</td></tr>\n",
       "\t<tr><td>2009-01-06</td><td>Z         </td><td> 3.3061319</td></tr>\n",
       "\t<tr><td>2009-01-07</td><td>Z         </td><td>-2.9782445</td></tr>\n",
       "\t<tr><td>2009-01-08</td><td>Z         </td><td>-5.2418441</td></tr>\n",
       "\t<tr><td>2009-01-09</td><td>Z         </td><td>13.2166112</td></tr>\n",
       "\t<tr><td>2009-01-10</td><td>Z         </td><td> 1.3511395</td></tr>\n",
       "</tbody>\n",
       "</table>\n"
      ],
      "text/latex": [
       "\\begin{tabular}{r|lll}\n",
       " time & stock & price\\\\\n",
       "\\hline\n",
       "\t 2009-01-01 & X          &  0.7533872\\\\\n",
       "\t 2009-01-02 & X          & -0.5477809\\\\\n",
       "\t 2009-01-03 & X          & -0.6300103\\\\\n",
       "\t 2009-01-04 & X          & -0.2954315\\\\\n",
       "\t 2009-01-05 & X          &  0.6227390\\\\\n",
       "\t 2009-01-06 & X          & -1.7593439\\\\\n",
       "\t 2009-01-07 & X          &  0.4836467\\\\\n",
       "\t 2009-01-08 & X          & -0.7243929\\\\\n",
       "\t 2009-01-09 & X          & -0.6973255\\\\\n",
       "\t 2009-01-10 & X          & -0.6319607\\\\\n",
       "\t 2009-01-01 & Y          & -2.2543771\\\\\n",
       "\t 2009-01-02 & Y          &  0.4906560\\\\\n",
       "\t 2009-01-03 & Y          & -2.6568473\\\\\n",
       "\t 2009-01-04 & Y          & -0.7726514\\\\\n",
       "\t 2009-01-05 & Y          &  1.6084312\\\\\n",
       "\t 2009-01-06 & Y          &  0.7387330\\\\\n",
       "\t 2009-01-07 & Y          & -0.6197154\\\\\n",
       "\t 2009-01-08 & Y          &  0.6752242\\\\\n",
       "\t 2009-01-09 & Y          & -1.4196808\\\\\n",
       "\t 2009-01-10 & Y          & -2.0067363\\\\\n",
       "\t 2009-01-01 & Z          &  1.6562782\\\\\n",
       "\t 2009-01-02 & Z          &  2.1241523\\\\\n",
       "\t 2009-01-03 & Z          & -0.1450357\\\\\n",
       "\t 2009-01-04 & Z          &  0.3297469\\\\\n",
       "\t 2009-01-05 & Z          &  2.5607537\\\\\n",
       "\t 2009-01-06 & Z          &  3.3061319\\\\\n",
       "\t 2009-01-07 & Z          & -2.9782445\\\\\n",
       "\t 2009-01-08 & Z          & -5.2418441\\\\\n",
       "\t 2009-01-09 & Z          & 13.2166112\\\\\n",
       "\t 2009-01-10 & Z          &  1.3511395\\\\\n",
       "\\end{tabular}\n"
      ],
      "text/markdown": [
       "\n",
       "time | stock | price | \n",
       "|---|---|---|---|---|---|---|---|---|---|---|---|---|---|---|---|---|---|---|---|---|---|---|---|---|---|---|---|---|---|\n",
       "| 2009-01-01 | X          |  0.7533872 | \n",
       "| 2009-01-02 | X          | -0.5477809 | \n",
       "| 2009-01-03 | X          | -0.6300103 | \n",
       "| 2009-01-04 | X          | -0.2954315 | \n",
       "| 2009-01-05 | X          |  0.6227390 | \n",
       "| 2009-01-06 | X          | -1.7593439 | \n",
       "| 2009-01-07 | X          |  0.4836467 | \n",
       "| 2009-01-08 | X          | -0.7243929 | \n",
       "| 2009-01-09 | X          | -0.6973255 | \n",
       "| 2009-01-10 | X          | -0.6319607 | \n",
       "| 2009-01-01 | Y          | -2.2543771 | \n",
       "| 2009-01-02 | Y          |  0.4906560 | \n",
       "| 2009-01-03 | Y          | -2.6568473 | \n",
       "| 2009-01-04 | Y          | -0.7726514 | \n",
       "| 2009-01-05 | Y          |  1.6084312 | \n",
       "| 2009-01-06 | Y          |  0.7387330 | \n",
       "| 2009-01-07 | Y          | -0.6197154 | \n",
       "| 2009-01-08 | Y          |  0.6752242 | \n",
       "| 2009-01-09 | Y          | -1.4196808 | \n",
       "| 2009-01-10 | Y          | -2.0067363 | \n",
       "| 2009-01-01 | Z          |  1.6562782 | \n",
       "| 2009-01-02 | Z          |  2.1241523 | \n",
       "| 2009-01-03 | Z          | -0.1450357 | \n",
       "| 2009-01-04 | Z          |  0.3297469 | \n",
       "| 2009-01-05 | Z          |  2.5607537 | \n",
       "| 2009-01-06 | Z          |  3.3061319 | \n",
       "| 2009-01-07 | Z          | -2.9782445 | \n",
       "| 2009-01-08 | Z          | -5.2418441 | \n",
       "| 2009-01-09 | Z          | 13.2166112 | \n",
       "| 2009-01-10 | Z          |  1.3511395 | \n",
       "\n",
       "\n"
      ],
      "text/plain": [
       "   time       stock price     \n",
       "1  2009-01-01 X      0.7533872\n",
       "2  2009-01-02 X     -0.5477809\n",
       "3  2009-01-03 X     -0.6300103\n",
       "4  2009-01-04 X     -0.2954315\n",
       "5  2009-01-05 X      0.6227390\n",
       "6  2009-01-06 X     -1.7593439\n",
       "7  2009-01-07 X      0.4836467\n",
       "8  2009-01-08 X     -0.7243929\n",
       "9  2009-01-09 X     -0.6973255\n",
       "10 2009-01-10 X     -0.6319607\n",
       "11 2009-01-01 Y     -2.2543771\n",
       "12 2009-01-02 Y      0.4906560\n",
       "13 2009-01-03 Y     -2.6568473\n",
       "14 2009-01-04 Y     -0.7726514\n",
       "15 2009-01-05 Y      1.6084312\n",
       "16 2009-01-06 Y      0.7387330\n",
       "17 2009-01-07 Y     -0.6197154\n",
       "18 2009-01-08 Y      0.6752242\n",
       "19 2009-01-09 Y     -1.4196808\n",
       "20 2009-01-10 Y     -2.0067363\n",
       "21 2009-01-01 Z      1.6562782\n",
       "22 2009-01-02 Z      2.1241523\n",
       "23 2009-01-03 Z     -0.1450357\n",
       "24 2009-01-04 Z      0.3297469\n",
       "25 2009-01-05 Z      2.5607537\n",
       "26 2009-01-06 Z      3.3061319\n",
       "27 2009-01-07 Z     -2.9782445\n",
       "28 2009-01-08 Z     -5.2418441\n",
       "29 2009-01-09 Z     13.2166112\n",
       "30 2009-01-10 Z      1.3511395"
      ]
     },
     "metadata": {},
     "output_type": "display_data"
    },
    {
     "data": {
      "text/html": [
       "<table>\n",
       "<thead><tr><th scope=col>time</th><th scope=col>X</th><th scope=col>Y</th><th scope=col>Z</th></tr></thead>\n",
       "<tbody>\n",
       "\t<tr><td>2009-01-01</td><td> 0.7533872</td><td>-2.2543771</td><td> 1.6562782</td></tr>\n",
       "\t<tr><td>2009-01-02</td><td>-0.5477809</td><td> 0.4906560</td><td> 2.1241523</td></tr>\n",
       "\t<tr><td>2009-01-03</td><td>-0.6300103</td><td>-2.6568473</td><td>-0.1450357</td></tr>\n",
       "\t<tr><td>2009-01-04</td><td>-0.2954315</td><td>-0.7726514</td><td> 0.3297469</td></tr>\n",
       "\t<tr><td>2009-01-05</td><td> 0.6227390</td><td> 1.6084312</td><td> 2.5607537</td></tr>\n",
       "\t<tr><td>2009-01-06</td><td>-1.7593439</td><td> 0.7387330</td><td> 3.3061319</td></tr>\n",
       "\t<tr><td>2009-01-07</td><td> 0.4836467</td><td>-0.6197154</td><td>-2.9782445</td></tr>\n",
       "\t<tr><td>2009-01-08</td><td>-0.7243929</td><td> 0.6752242</td><td>-5.2418441</td></tr>\n",
       "\t<tr><td>2009-01-09</td><td>-0.6973255</td><td>-1.4196808</td><td>13.2166112</td></tr>\n",
       "\t<tr><td>2009-01-10</td><td>-0.6319607</td><td>-2.0067363</td><td> 1.3511395</td></tr>\n",
       "</tbody>\n",
       "</table>\n"
      ],
      "text/latex": [
       "\\begin{tabular}{r|llll}\n",
       " time & X & Y & Z\\\\\n",
       "\\hline\n",
       "\t 2009-01-01 &  0.7533872 & -2.2543771 &  1.6562782\\\\\n",
       "\t 2009-01-02 & -0.5477809 &  0.4906560 &  2.1241523\\\\\n",
       "\t 2009-01-03 & -0.6300103 & -2.6568473 & -0.1450357\\\\\n",
       "\t 2009-01-04 & -0.2954315 & -0.7726514 &  0.3297469\\\\\n",
       "\t 2009-01-05 &  0.6227390 &  1.6084312 &  2.5607537\\\\\n",
       "\t 2009-01-06 & -1.7593439 &  0.7387330 &  3.3061319\\\\\n",
       "\t 2009-01-07 &  0.4836467 & -0.6197154 & -2.9782445\\\\\n",
       "\t 2009-01-08 & -0.7243929 &  0.6752242 & -5.2418441\\\\\n",
       "\t 2009-01-09 & -0.6973255 & -1.4196808 & 13.2166112\\\\\n",
       "\t 2009-01-10 & -0.6319607 & -2.0067363 &  1.3511395\\\\\n",
       "\\end{tabular}\n"
      ],
      "text/markdown": [
       "\n",
       "time | X | Y | Z | \n",
       "|---|---|---|---|---|---|---|---|---|---|\n",
       "| 2009-01-01 |  0.7533872 | -2.2543771 |  1.6562782 | \n",
       "| 2009-01-02 | -0.5477809 |  0.4906560 |  2.1241523 | \n",
       "| 2009-01-03 | -0.6300103 | -2.6568473 | -0.1450357 | \n",
       "| 2009-01-04 | -0.2954315 | -0.7726514 |  0.3297469 | \n",
       "| 2009-01-05 |  0.6227390 |  1.6084312 |  2.5607537 | \n",
       "| 2009-01-06 | -1.7593439 |  0.7387330 |  3.3061319 | \n",
       "| 2009-01-07 |  0.4836467 | -0.6197154 | -2.9782445 | \n",
       "| 2009-01-08 | -0.7243929 |  0.6752242 | -5.2418441 | \n",
       "| 2009-01-09 | -0.6973255 | -1.4196808 | 13.2166112 | \n",
       "| 2009-01-10 | -0.6319607 | -2.0067363 |  1.3511395 | \n",
       "\n",
       "\n"
      ],
      "text/plain": [
       "   time       X          Y          Z         \n",
       "1  2009-01-01  0.7533872 -2.2543771  1.6562782\n",
       "2  2009-01-02 -0.5477809  0.4906560  2.1241523\n",
       "3  2009-01-03 -0.6300103 -2.6568473 -0.1450357\n",
       "4  2009-01-04 -0.2954315 -0.7726514  0.3297469\n",
       "5  2009-01-05  0.6227390  1.6084312  2.5607537\n",
       "6  2009-01-06 -1.7593439  0.7387330  3.3061319\n",
       "7  2009-01-07  0.4836467 -0.6197154 -2.9782445\n",
       "8  2009-01-08 -0.7243929  0.6752242 -5.2418441\n",
       "9  2009-01-09 -0.6973255 -1.4196808 13.2166112\n",
       "10 2009-01-10 -0.6319607 -2.0067363  1.3511395"
      ]
     },
     "metadata": {},
     "output_type": "display_data"
    }
   ],
   "source": [
    "stocks <- data.frame(\n",
    "  time = as.Date('2009-01-01') + 0:9,\n",
    "  X = rnorm(10, 0, 1),\n",
    "  Y = rnorm(10, 0, 2),\n",
    "  Z = rnorm(10, 0, 4)\n",
    ")\n",
    "stocksm <- stocks %>% gather(stock, price, -time)\n",
    "stocksm\n",
    "\n",
    "stocks"
   ]
  },
  {
   "cell_type": "code",
   "execution_count": 93,
   "metadata": {},
   "outputs": [
    {
     "data": {
      "text/html": [
       "<table>\n",
       "<thead><tr><th scope=col>stock</th><th scope=col>2009-01-01</th><th scope=col>2009-01-02</th><th scope=col>2009-01-03</th><th scope=col>2009-01-04</th><th scope=col>2009-01-05</th><th scope=col>2009-01-06</th><th scope=col>2009-01-07</th><th scope=col>2009-01-08</th><th scope=col>2009-01-09</th><th scope=col>2009-01-10</th></tr></thead>\n",
       "<tbody>\n",
       "\t<tr><td>X         </td><td> 0.7533872</td><td>-0.5477809</td><td>-0.6300103</td><td>-0.2954315</td><td>0.622739  </td><td>-1.759344 </td><td> 0.4836467</td><td>-0.7243929</td><td>-0.6973255</td><td>-0.6319607</td></tr>\n",
       "\t<tr><td>Y         </td><td>-2.2543771</td><td> 0.4906560</td><td>-2.6568473</td><td>-0.7726514</td><td>1.608431  </td><td> 0.738733 </td><td>-0.6197154</td><td> 0.6752242</td><td>-1.4196808</td><td>-2.0067363</td></tr>\n",
       "\t<tr><td>Z         </td><td> 1.6562782</td><td> 2.1241523</td><td>-0.1450357</td><td> 0.3297469</td><td>2.560754  </td><td> 3.306132 </td><td>-2.9782445</td><td>-5.2418441</td><td>13.2166112</td><td> 1.3511395</td></tr>\n",
       "</tbody>\n",
       "</table>\n"
      ],
      "text/latex": [
       "\\begin{tabular}{r|lllllllllll}\n",
       " stock & 2009-01-01 & 2009-01-02 & 2009-01-03 & 2009-01-04 & 2009-01-05 & 2009-01-06 & 2009-01-07 & 2009-01-08 & 2009-01-09 & 2009-01-10\\\\\n",
       "\\hline\n",
       "\t X          &  0.7533872 & -0.5477809 & -0.6300103 & -0.2954315 & 0.622739   & -1.759344  &  0.4836467 & -0.7243929 & -0.6973255 & -0.6319607\\\\\n",
       "\t Y          & -2.2543771 &  0.4906560 & -2.6568473 & -0.7726514 & 1.608431   &  0.738733  & -0.6197154 &  0.6752242 & -1.4196808 & -2.0067363\\\\\n",
       "\t Z          &  1.6562782 &  2.1241523 & -0.1450357 &  0.3297469 & 2.560754   &  3.306132  & -2.9782445 & -5.2418441 & 13.2166112 &  1.3511395\\\\\n",
       "\\end{tabular}\n"
      ],
      "text/markdown": [
       "\n",
       "stock | 2009-01-01 | 2009-01-02 | 2009-01-03 | 2009-01-04 | 2009-01-05 | 2009-01-06 | 2009-01-07 | 2009-01-08 | 2009-01-09 | 2009-01-10 | \n",
       "|---|---|---|\n",
       "| X          |  0.7533872 | -0.5477809 | -0.6300103 | -0.2954315 | 0.622739   | -1.759344  |  0.4836467 | -0.7243929 | -0.6973255 | -0.6319607 | \n",
       "| Y          | -2.2543771 |  0.4906560 | -2.6568473 | -0.7726514 | 1.608431   |  0.738733  | -0.6197154 |  0.6752242 | -1.4196808 | -2.0067363 | \n",
       "| Z          |  1.6562782 |  2.1241523 | -0.1450357 |  0.3297469 | 2.560754   |  3.306132  | -2.9782445 | -5.2418441 | 13.2166112 |  1.3511395 | \n",
       "\n",
       "\n"
      ],
      "text/plain": [
       "  stock 2009-01-01 2009-01-02 2009-01-03 2009-01-04 2009-01-05 2009-01-06\n",
       "1 X      0.7533872 -0.5477809 -0.6300103 -0.2954315 0.622739   -1.759344 \n",
       "2 Y     -2.2543771  0.4906560 -2.6568473 -0.7726514 1.608431    0.738733 \n",
       "3 Z      1.6562782  2.1241523 -0.1450357  0.3297469 2.560754    3.306132 \n",
       "  2009-01-07 2009-01-08 2009-01-09 2009-01-10\n",
       "1  0.4836467 -0.7243929 -0.6973255 -0.6319607\n",
       "2 -0.6197154  0.6752242 -1.4196808 -2.0067363\n",
       "3 -2.9782445 -5.2418441 13.2166112  1.3511395"
      ]
     },
     "metadata": {},
     "output_type": "display_data"
    }
   ],
   "source": []
  },
  {
   "cell_type": "code",
   "execution_count": null,
   "metadata": {},
   "outputs": [],
   "source": []
  }
 ],
 "metadata": {
  "kernelspec": {
   "display_name": "R",
   "language": "R",
   "name": "ir"
  },
  "language_info": {
   "codemirror_mode": "r",
   "file_extension": ".r",
   "mimetype": "text/x-r-source",
   "name": "R",
   "pygments_lexer": "r",
   "version": "3.3.2"
  }
 },
 "nbformat": 4,
 "nbformat_minor": 2
}
